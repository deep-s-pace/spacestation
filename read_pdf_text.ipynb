{
 "cells": [
  {
   "cell_type": "code",
   "execution_count": 2,
   "metadata": {},
   "outputs": [],
   "source": [
    "#PDF 파일의 텍스트를 읽어와서 pd에 정리하는 작업을 해보자."
   ]
  },
  {
   "cell_type": "code",
   "execution_count": 13,
   "metadata": {},
   "outputs": [
    {
     "name": "stdout",
     "output_type": "stream",
     "text": [
      "read_text/서식4_연구개발성과미실시확인서 - 동양시멘트(주).pdf\n"
     ]
    }
   ],
   "source": [
    "krText = '서식4_연구개발성과미실시확인서 - 동양시멘트(주)'\n",
    "\n",
    "sample = f'read_text/{krText}.pdf'\n",
    "\n",
    "print(sample)"
   ]
  },
  {
   "cell_type": "code",
   "execution_count": 6,
   "metadata": {},
   "outputs": [
    {
     "name": "stdout",
     "output_type": "stream",
     "text": [
      "Collecting pdfminer.six\n",
      "  Downloading pdfminer.six-20220524-py3-none-any.whl (5.6 MB)\n",
      "Collecting cryptography>=36.0.0\n",
      "  Downloading cryptography-37.0.2-cp36-abi3-win32.whl (2.1 MB)\n",
      "Requirement already satisfied: charset-normalizer>=2.0.0 in c:\\users\\sdg\\anaconda3\\lib\\site-packages (from pdfminer.six) (2.0.4)\n",
      "Requirement already satisfied: cffi>=1.12 in c:\\users\\sdg\\anaconda3\\lib\\site-packages (from cryptography>=36.0.0->pdfminer.six) (1.14.3)\n",
      "Requirement already satisfied: pycparser in c:\\users\\sdg\\anaconda3\\lib\\site-packages (from cffi>=1.12->cryptography>=36.0.0->pdfminer.six) (2.20)\n",
      "Installing collected packages: cryptography, pdfminer.six\n",
      "  Attempting uninstall: cryptography\n",
      "    Found existing installation: cryptography 3.4.7\n",
      "    Uninstalling cryptography-3.4.7:\n",
      "      Successfully uninstalled cryptography-3.4.7\n",
      "Successfully installed cryptography-37.0.2 pdfminer.six-20220524\n"
     ]
    }
   ],
   "source": [
    "! pip install pdfminer.six\n",
    "! pip install PyPDF2\n",
    "! pip install PDFplumber"
   ]
  },
  {
   "cell_type": "code",
   "execution_count": 26,
   "metadata": {},
   "outputs": [
    {
     "ename": "ModuleNotFoundError",
     "evalue": "No module named 'PDFplumber'",
     "output_type": "error",
     "traceback": [
      "\u001b[1;31m---------------------------------------------------------------------------\u001b[0m",
      "\u001b[1;31mModuleNotFoundError\u001b[0m                       Traceback (most recent call last)",
      "\u001b[1;32m<ipython-input-26-fb5de90d87e7>\u001b[0m in \u001b[0;36m<module>\u001b[1;34m\u001b[0m\n\u001b[1;32m----> 1\u001b[1;33m \u001b[1;32mfrom\u001b[0m \u001b[0mPDFplumber\u001b[0m \u001b[1;32mimport\u001b[0m \u001b[0mPDFplumber\u001b[0m\u001b[1;33m\u001b[0m\u001b[1;33m\u001b[0m\u001b[0m\n\u001b[0m\u001b[0;32m      2\u001b[0m \u001b[1;32mwith\u001b[0m \u001b[0mPDFplumber\u001b[0m\u001b[1;33m.\u001b[0m\u001b[0mopen\u001b[0m\u001b[1;33m(\u001b[0m\u001b[1;34m\"test.pdf\"\u001b[0m\u001b[1;33m)\u001b[0m \u001b[1;32mas\u001b[0m \u001b[0mtemp\u001b[0m\u001b[1;33m:\u001b[0m\u001b[1;33m\u001b[0m\u001b[1;33m\u001b[0m\u001b[0m\n\u001b[0;32m      3\u001b[0m   \u001b[0mfirst_page\u001b[0m \u001b[1;33m=\u001b[0m \u001b[0mtemp\u001b[0m\u001b[1;33m.\u001b[0m\u001b[0mpages\u001b[0m\u001b[1;33m[\u001b[0m\u001b[1;36m0\u001b[0m\u001b[1;33m]\u001b[0m\u001b[1;33m\u001b[0m\u001b[1;33m\u001b[0m\u001b[0m\n\u001b[0;32m      4\u001b[0m   \u001b[0mprint\u001b[0m\u001b[1;33m(\u001b[0m\u001b[0mfirst_page\u001b[0m\u001b[1;33m.\u001b[0m\u001b[0mextract_text\u001b[0m\u001b[1;33m(\u001b[0m\u001b[1;33m)\u001b[0m\u001b[1;33m)\u001b[0m\u001b[1;33m\u001b[0m\u001b[1;33m\u001b[0m\u001b[0m\n",
      "\u001b[1;31mModuleNotFoundError\u001b[0m: No module named 'PDFplumber'"
     ]
    }
   ],
   "source": [
    "from PDFplumber import PDFplumber\n",
    "with PDFplumber.open(\"test.pdf\") as temp:\n",
    "  first_page = temp.pages[0]\n",
    "  print(first_page.extract_text())"
   ]
  },
  {
   "cell_type": "code",
   "execution_count": 19,
   "metadata": {},
   "outputs": [],
   "source": [
    "import pdfminer\n",
    "from pdfminer.high_level import extract_pages\n",
    "from pdfminer.layout import LTTextContainer\n",
    "for page_layout in extract_pages('test.pdf'):\n",
    "    for element in page_layout:\n",
    "        if isinstance(element, LTTextContainer):\n",
    "            print(element.get_text())\n",
    "\n",
    "# text = extract_text(sample)\n",
    "\n",
    "# print(text)"
   ]
  },
  {
   "cell_type": "code",
   "execution_count": 11,
   "metadata": {},
   "outputs": [
    {
     "name": "stdout",
     "output_type": "stream",
     "text": [
      "\f",
      "\n"
     ]
    }
   ],
   "source": [
    "from io import StringIO\n",
    "\n",
    "from pdfminer.converter import TextConverter\n",
    "from pdfminer.layout import LAParams\n",
    "from pdfminer.pdfdocument import PDFDocument\n",
    "from pdfminer.pdfinterp import PDFResourceManager, PDFPageInterpreter\n",
    "from pdfminer.pdfpage import PDFPage\n",
    "from pdfminer.pdfparser import PDFParser\n",
    "\n",
    "output_string = StringIO()\n",
    "with open(sample, 'rb') as in_file:\n",
    "    parser = PDFParser(in_file)\n",
    "    doc = PDFDocument(parser)\n",
    "    rsrcmgr = PDFResourceManager()\n",
    "    device = TextConverter(rsrcmgr, output_string, laparams=LAParams())\n",
    "    interpreter = PDFPageInterpreter(rsrcmgr, device)\n",
    "    for page in PDFPage.create_pages(doc):\n",
    "        interpreter.process_page(page)\n",
    "\n",
    "print(output_string.getvalue())"
   ]
  },
  {
   "cell_type": "markdown",
   "metadata": {},
   "source": [
    "# 이미지파일 텍스트 가져오기"
   ]
  },
  {
   "cell_type": "code",
   "execution_count": null,
   "metadata": {},
   "outputs": [],
   "source": [
    "#이건 이미지파일이라고 봐야한다.. 그럼 pdf모듈을 쓸수가 없지 뭐람"
   ]
  },
  {
   "cell_type": "code",
   "execution_count": 40,
   "metadata": {},
   "outputs": [
    {
     "name": "stdout",
     "output_type": "stream",
     "text": [
      "Requirement already satisfied: pytesseract in c:\\users\\sdg\\anaconda3\\lib\\site-packages (0.3.9)\n",
      "Requirement already satisfied: Pillow>=8.0.0 in c:\\users\\sdg\\anaconda3\\lib\\site-packages (from pytesseract) (9.1.1)\n",
      "Requirement already satisfied: packaging>=21.3 in c:\\users\\sdg\\anaconda3\\lib\\site-packages (from pytesseract) (21.3)\n",
      "Requirement already satisfied: pyparsing!=3.0.5,>=2.0.2 in c:\\users\\sdg\\anaconda3\\lib\\site-packages (from packaging>=21.3->pytesseract) (2.4.7)\n"
     ]
    }
   ],
   "source": [
    "! pip install pytesseract\n",
    "! pip install tesseract\n",
    "! pip install opencv-python\n",
    "! pip install pillow\n",
    "! pip install pytesseract"
   ]
  },
  {
   "cell_type": "code",
   "execution_count": 10,
   "metadata": {},
   "outputs": [
    {
     "name": "stdout",
     "output_type": "stream",
     "text": [
      "==========텍스트 인식 결과=============\n",
      "연 구 개 발 성과 미 실 시 확 인 서 ( 기 술 료 남 부 등 의 무 기 관 )\n",
      "\n",
      "사 업 명\n",
      "\n",
      "국 토 교 통 기 술 지 역 특 성 화 사 업\n",
      "\n",
      "최 상 위 과 제 명\n",
      "\n",
      "강 원 권 국 토 교 통 지 역 특 성 화 기 술 개 발\n",
      "\n",
      "동 결 융 해 저 항 고 내 구성 콘 크 리트\n",
      "\n",
      "세 부 과 제 명\n",
      "\n",
      "응 용 기 술 개 발\n",
      "\n",
      ". | 연 구 개 발 과 제 번 호\n",
      "\n",
      "1615008382\n",
      "\n",
      "강 원 대 학 교 산 학 협 력 단\n",
      "\n",
      "주 관 연 구 책 임 자\n",
      "\n",
      "윤 경 구\n",
      "\n",
      "주 관 연 구 기 관 명 ㅣ\n",
      "\n",
      "총 연 구 기 간\n",
      "\n",
      "2013.06.15.~2019.10.31\n",
      "\n",
      "참 여 기 업 명\n",
      "\n",
      "대 상 이 앤 씨 @ 외\n",
      "\n",
      "정 부 출 연 금\n",
      "\n",
      "기 업 부 담 금\n",
      "\n",
      "총 연 구 개 발 비 ( 천 원 )\n",
      "\n",
      "6,873,000\n",
      "\n",
      "3,152,250\n",
      "\n",
      "기 술 실 시 대 상 과 제 명\n",
      "\n",
      "석 탄 회 개 질 기 술 및 이 를 이 용 한 고 부 가 가 치 석 탄 회 WS\n",
      "\n",
      "정 부 출 연 금\n",
      "\n",
      "기 업 부 담 금\n",
      "\n",
      "총 연 구 개 발 비 ( 천 원 )\n",
      "\n",
      "90,240\n",
      "\n",
      "248,000\n",
      "\n",
      "대 상 과제 총 연 구 기 간\n",
      "\n",
      "2014.03~2017.02\n",
      "\n",
      "대 상 과제 연 구 책 임 자\n",
      "\n",
      "참 여 기 업 명\n",
      "\n",
      "SA EES\n",
      "\n",
      "기 업 유 형\n",
      "\n",
      "대 ㆍ 공 기 업 (\n",
      "\n",
      "), 중 견 기 업 ( ) ), SAIS\n",
      "\n",
      "|\n",
      "\n",
      "기 관 명\n",
      "\n",
      "@ 삼 표 시 멘 트\n",
      "\n",
      "사 업 자 등\n",
      "\n",
      "=\n",
      "\n",
      "번 호\n",
      "\n",
      "229\n",
      "\n",
      "는8흘 -04571\n",
      "\n",
      "연 구 개 발 성 과 물\n",
      "\n",
      "주 소\n",
      "\n",
      "강 원 도 삼 척 시 동 양 길 20\n",
      "\n",
      "소 유 기 관\n",
      "\n",
      "부 서 명\n",
      "\n",
      "품 질 팀\n",
      "\n",
      "남 당 자\n",
      "\n",
      "임 두 섭\n",
      "\n",
      "doosub.lim@\n",
      "\n",
      "전 화 번 호 ( 휴 대 폰 )\n",
      "\n",
      "033-571-7379\n",
      "\n",
      "e-mail\n",
      "\n",
      "sampyo.co.kr\n",
      "\n",
      "구성 및 인 원\n",
      "\n",
      "620 명\n",
      "\n",
      "자 본 금 ( 천 원 )\n",
      "\n",
      "53,679,000\n",
      "\n",
      "543,152,000\n",
      "\n",
      "| 직 전 년 도 매 출 액 ( 천 원 )\n",
      "\n",
      "주 생 산 품 목\n",
      "\n",
      "크 링 커 , AGE\n",
      "\n",
      "국 가 연 구 개 발 과 제 를\n",
      "\n",
      "so 확 보 한 기 술\n",
      "\n",
      "석 탄 회 WA 기 술 및 OS 이 용 한 고 부 가 가 치 석 탄 회 HE\n",
      "\n",
      "연 구 개 발 성과\n",
      "\n",
      "징 전 식\n",
      "\n",
      "7S &\n",
      "\n",
      "Al (\n",
      "\n",
      ")\n",
      "\n",
      "연 구 개 발 성과 AISA AAI (\n",
      "\n",
      ")\n",
      "\n",
      "ap 성과 및 경 제 성 검 토 결 과 긍 정 적 이였\n",
      "\n",
      "연 구 개 발 성과\n",
      "\n",
      "음 . 석 탄 회 품 질 AS 폭 이 HAAN 설비 투 자 가\n",
      "\n",
      "당 시 경 영 적 인 환 경 여 건 ( 법 정 관 리 ) 에\n",
      "\n",
      "미 실 시 사 유\n",
      "\n",
      "필 요 한 상 황 이 였 으 나 , 경 영 적 인 환 경 여 건 ( 법\n",
      "\n",
      "정 관 리 ) 때 문에 지 속 적 인 투 자 가 어 려 웠 음 .\n",
      "\n",
      "의 해 제 약 이 BRS\n",
      "\n",
      "향 후\n",
      "\n",
      "연 구 개 발 성과\n",
      "\n",
      "당 시 경 영 적 인 SSB AAO 의 해 SAI 어 려 웠 으 나 향 후 석 탄 회 SS 과 잉 및\n",
      "\n",
      "Sa 변 동 폭 이 감 소 하 여 안 정 화 HOH AS 상 황 을 고 려 하 여 설비 투 자 SS\n",
      "\n",
      "상 용 화 관 련\n",
      "\n",
      "토 할 여 지 가 Us. 또 한 석 탄 회 외 OE 재 료 로 의 접목 SF VA 대 상 임 .\n",
      "\n",
      "추 진 계 획\n",
      "\n",
      "2021\n",
      "\n",
      "07\n",
      "\n",
      "fT)\n",
      "\n",
      "e\\Y\n",
      "\n",
      "SY\n",
      "\n",
      "TS\n",
      "\n",
      "( 주 ) 삼 표 시 멘 트 대 표 이 사\n",
      "\n",
      "AVOP):\n",
      "\n",
      "ee\n",
      "\n",
      "gy\n",
      "\n",
      "2\n",
      "\n"
     ]
    }
   ],
   "source": [
    "from PIL import Image\n",
    "import pytesseract\n",
    "import argparse\n",
    "import cv2\n",
    "import os\n",
    " \n",
    "\n",
    "# load the example image and convert it to grayscale\n",
    "image = cv2.imread(\"test.jpg\")\n",
    "gray = cv2.cvtColor(image, cv2.COLOR_BGR2GRAY)\n",
    " \n",
    "# write the grayscale image to disk as a temporary file so we can\n",
    "# apply OCR to it\n",
    "filename = \"{}.png\".format(os.getpid())\n",
    "cv2.imwrite(filename, gray)\n",
    "\n",
    "pytesseract.pytesseract.tesseract_cmd = \"C:\\\\Program Files\\\\Tesseract-OCR\\\\tesseract.exe\"\n",
    "config = ('-l kor+eng --oem 3 --psm 11')\n",
    "\n",
    "text = pytesseract.image_to_string(Image.open(filename), config=config)\n",
    "os.remove(filename)\n",
    "\n",
    "print('==========텍스트 인식 결과=============')\n",
    "print(text)"
   ]
  },
  {
   "cell_type": "code",
   "execution_count": 11,
   "metadata": {},
   "outputs": [
    {
     "name": "stdout",
     "output_type": "stream",
     "text": [
      "연 구 개 발 성과 미 실 시 확 인 서 ( 기 술 료 남 부 등 의 무 기 관 )\n",
      "\n",
      "사 업 명 국 토 교 통 기 술 지 역 특 성 화 사 업\n",
      "최 상 위 과 제 명 강 원 권 국 토 교 통 지 역 특 성 화 기 술 개 발\n",
      "동 결 융 해 저 항 고 내 구성 콘 크 리트 리\n",
      "세 부 파 제 명 . |6 빠 6 에 지 환 그 네 구 크 디 트 | 연 구 개 발 과 제 번 호 1615008382\n",
      "응 용 기 술 개 발\n",
      "주 관 연 구 기 관 명 강 원 대 학 교 산 학 협 력 단 주 관 연 구 책 임 자 윤 경 구\n",
      "총 연 구 기 간 2013.06.15.~2019.10.31 참 여 기 업 명 대 상 이 앤 씨 \\ 외\n",
      "| 정 부 출 연 금 기 업 부 담 금\n",
      "총 연 구 개 발 비 ( 천 원 )\n",
      "6,873,000 3,152,250\n",
      "기 술 실 시 대 상 과 제 명 석 탄 회 개 질 기 술 및 이 를 이 용 한 고 부 가 가 치 석 탄 회 개 발\n",
      "_ 대 상 과 제. 정 부 출 연 금 기 업 부 담 금\n",
      "총 연 구 개 발 비 ( 천 원 ) 90,240 248,000\n",
      "대 상 과제 총 연 구 기 간 2014.03~2017.02 대 상 과제 연 구 책 임 자 송 용 순\n",
      "참 여 기 업 명 동 양 시 멘 트 뼈\n",
      "기 업 유 형 대 공 기 업 ( ), 중 견 기 업 ( ㅇ ), 중 소 기 업 ( )\n",
      "기 관 명 \\ 삼 표 시 멘 트 사 업 자 등 록 번 호 ㅣ . 229-81-04571\n",
      "연 구 개 발 성 과 물 주 소 강 원 도 삼 척 시 동 양 길 20\n",
      "소 유 기 관\n",
      "부 서 명 품 질 팀 담 당 자 림 두 섭\n",
      "전 화 번 호 ( 휴 대 폰 | . 033-571-7379 6- ㅁ 0 00090840790\n",
      "88010\\/0.00.\n",
      "구성 및 인 원 620 명\n",
      "자 본 금 ( 천 원 ) 53,679,000 직 전 년 도 매 출 액 ( 천 원 | 、 543,152,000\n",
      "주 생 산 품 목 크 링 커 , 시 멘 트\n",
      "국 가 연 구 개 발 과 제 를 \" 주 를 8( 음 한 고 부 가 게 처 체 타 롱\n",
      "9 돋 나 5 는 은 석 탄 회 개 질 기 술 및 이 를 이 용 한 고 부 가 가 치 석 탄 회 개 발\n",
      "연 구 개 발 성과 직접 실 시 ) 연 구 개 발 성과 제 3 자 실 시 ( )\n",
      "연 구 성과 및 경 제 성 검 토 결 과 금 정 적 이였\n",
      "연 구 개 발 성과 _ ㅣ 음 . 석 탄 회 품\n",
      "7 개 른 창 파 | 음 . 석 탄 회 품 질 변 동 폭 이 커 서 설비 투 자 가 | 납 ,,| 경 영 적 인 환 경 여 건 ( 법 정 관 리 ) 에\n",
      "미 실 시 사 유 _ | 필 요 한 상 황 이 였 으 나 , 경 영 적 인 환 경 여 건 ( 법 | 우우 55 5 온\n",
      "정 관 리 ) 때 문에 지 속 적 인 투 자 가 어 려 웠 음 . 」'\" 기 ' 으 쓰 라\n",
      "향 후\n",
      "연 구 개 발 성과 | 므 시 경 영 적 인 환 경 여 건 에 의 해 투 자 가 어 려 웠 으 나 향 후 석 탄 회 공 급 과 잉 및\n",
      "` 품 질 변 동 폭 이 감 소 하 여 안 정 화 된 다면 시 장 상 황 을 고 려 하 여 설비 투 자 등 검\n",
      "항 음 화 관 련 . |토 할 여 지 가 있 음 . 또 한 석 탄 회 외 다 른 재 료 로 의 접목 등 도 고 려 대 상 임 .\n",
      "추 진 계 획\n",
      "\n",
      "\n"
     ]
    }
   ],
   "source": [
    "import pytesseract\n",
    "\n",
    "text = pytesseract.image_to_string(\"test.jpg\", lang='kor'+'eur')\n",
    "print(text)"
   ]
  },
  {
   "cell_type": "code",
   "execution_count": 16,
   "metadata": {},
   "outputs": [
    {
     "ename": "NameError",
     "evalue": "name 'src_transform' is not defined",
     "output_type": "error",
     "traceback": [
      "\u001b[1;31m---------------------------------------------------------------------------\u001b[0m",
      "\u001b[1;31mNameError\u001b[0m                                 Traceback (most recent call last)",
      "\u001b[1;32m<ipython-input-16-3adfc263ef3b>\u001b[0m in \u001b[0;36m<module>\u001b[1;34m\u001b[0m\n\u001b[0;32m      1\u001b[0m \u001b[0mmser\u001b[0m \u001b[1;33m=\u001b[0m \u001b[0mcv2\u001b[0m\u001b[1;33m.\u001b[0m\u001b[0mMSER_create\u001b[0m\u001b[1;33m(\u001b[0m\u001b[1;33m)\u001b[0m\u001b[1;33m\u001b[0m\u001b[1;33m\u001b[0m\u001b[0m\n\u001b[1;32m----> 2\u001b[1;33m \u001b[0mregions\u001b[0m\u001b[1;33m,\u001b[0m \u001b[0m_\u001b[0m \u001b[1;33m=\u001b[0m \u001b[0mmser\u001b[0m\u001b[1;33m.\u001b[0m\u001b[0mdetectRegions\u001b[0m\u001b[1;33m(\u001b[0m\u001b[0msrc_transform\u001b[0m\u001b[1;33m)\u001b[0m\u001b[1;33m\u001b[0m\u001b[1;33m\u001b[0m\u001b[0m\n\u001b[0m\u001b[0;32m      3\u001b[0m \u001b[1;33m\u001b[0m\u001b[0m\n\u001b[0;32m      4\u001b[0m \u001b[0mhulls\u001b[0m \u001b[1;33m=\u001b[0m \u001b[1;33m[\u001b[0m\u001b[0mcv2\u001b[0m\u001b[1;33m.\u001b[0m\u001b[0mconvexHull\u001b[0m\u001b[1;33m(\u001b[0m\u001b[0mp\u001b[0m\u001b[1;33m.\u001b[0m\u001b[0mreshape\u001b[0m\u001b[1;33m(\u001b[0m\u001b[1;33m-\u001b[0m\u001b[1;36m1\u001b[0m\u001b[1;33m,\u001b[0m \u001b[1;36m1\u001b[0m\u001b[1;33m,\u001b[0m \u001b[1;36m2\u001b[0m\u001b[1;33m)\u001b[0m\u001b[1;33m)\u001b[0m \u001b[1;32mfor\u001b[0m \u001b[0mp\u001b[0m \u001b[1;32min\u001b[0m \u001b[0mregions\u001b[0m\u001b[1;33m]\u001b[0m\u001b[1;33m\u001b[0m\u001b[1;33m\u001b[0m\u001b[0m\n\u001b[0;32m      5\u001b[0m \u001b[1;33m\u001b[0m\u001b[0m\n",
      "\u001b[1;31mNameError\u001b[0m: name 'src_transform' is not defined"
     ]
    }
   ],
   "source": [
    "mser = cv2.MSER_create()\n",
    "regions, _ = mser.detectRegions(src_transform)\n",
    "\n",
    "hulls = [cv2.convexHull(p.reshape(-1, 1, 2)) for p in regions]\n",
    "\n",
    "for j, cnt in enumerate(hulls):\n",
    "    x, y, w, h = cv2.boundingRect(cnt)\n",
    "\n",
    "    if w > 160:\n",
    "        continue\n",
    "\n",
    "    cv2.rectangle(dst, (x, y), (x + w, y + h), (0, 255, 0), 1)\n",
    "\n",
    "cv2.imwrite('test.jpg', dst)\n",
    "\n",
    "#레퍼런스 : https://velog.io/@rlagksql219/python-Tesseract-OCR-%EA%B8%80%EC%9E%90-%EC%9D%B8%EC%8B%9D-qcsivues"
   ]
  },
  {
   "cell_type": "markdown",
   "metadata": {},
   "source": [
    "## 이제, 반복문 + data pandas frame을 이용하여 모든 파일을 순차적으로 작업하자"
   ]
  },
  {
   "cell_type": "code",
   "execution_count": null,
   "metadata": {},
   "outputs": [],
   "source": []
  }
 ],
 "metadata": {
  "kernelspec": {
   "display_name": "Python 3",
   "language": "python",
   "name": "python3"
  },
  "language_info": {
   "codemirror_mode": {
    "name": "ipython",
    "version": 3
   },
   "file_extension": ".py",
   "mimetype": "text/x-python",
   "name": "python",
   "nbconvert_exporter": "python",
   "pygments_lexer": "ipython3",
   "version": "3.8.5"
  }
 },
 "nbformat": 4,
 "nbformat_minor": 4
}
