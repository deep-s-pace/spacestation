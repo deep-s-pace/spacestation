{
 "cells": [
  {
   "cell_type": "markdown",
   "metadata": {
    "slideshow": {
     "slide_type": "slide"
    }
   },
   "source": [
    "# <font color=navy> Lecture 3. 표본분포 </font>\n",
    "\n",
    "\n",
    "## Example: 대학 입학원서\n",
    "- K대학교 경영대학은 매년 예비 대학생들로부터  900건의 입학원서를 받고 있다. \n",
    "     지원서에는 해당 학생의 수능 성적과 기숙사 생활\n",
    "     희망여부를 담고 있다. 입학사정관은 다음과 같은 정보를 알고 싶어 한다\n",
    "    - 900명의 응시자의 \n",
    "    수능 평균성적\n",
    "    - 기숙사에 살고 싶어 하는\n",
    "    학생의 비율\n",
    "\n",
    "| 일련번호 |  이름 | 수능성적 | 기숙사 희망여부  |\n",
    "|:--------:|:-----:|:--------:|:----------------:|\n",
    "|     1    | 정여* |    320   |         Y        |\n",
    "|     2    | 최병* |    374   |         N        |\n",
    "|     3    | 조윤* |    318   |         N        |\n",
    "|     4    | 권순* |    356   |         Y        |\n",
    "|     5    | 안성* |    331   |         Y        |\n",
    "|     $\\vdots$   |    $\\vdots$   |     $\\vdots$     |        $\\vdots$          |"
   ]
  },
  {
   "cell_type": "markdown",
   "metadata": {
    "lines_to_next_cell": 0,
    "slideshow": {
     "slide_type": "slide"
    }
   },
   "source": [
    "#### 900명에 대한 전수조사가 가능하다면? \n",
    "- 모집단의 수능성적 평균\n",
    "$$ \\mu=\\frac{\\sum_i x_i }{900} = 342$$\n",
    "\n",
    "- 모집단의 수능성적에 대한 표준편차\n",
    "$$ \\sigma=\\sqrt{\\frac{\\sum_i (x_i-\\mu)^2}{900}}=30$$\n",
    "\n",
    "- 모집단의 기숙사 생활 희망 학생의 비중\n",
    "$$ p=\\frac{320}{900}\\approx0.36$$"
   ]
  },
  {
   "cell_type": "markdown",
   "metadata": {
    "lines_to_next_cell": 0,
    "slideshow": {
     "slide_type": "slide"
    }
   },
   "source": [
    "#### 시간관계로 900명 전부를 조사하지 못한다면? \n",
    "- 무작위 표본 추출: n=30명\n",
    "- 표본으로 계산한 값으로 모수를 추정\n",
    "\n",
    "- 점추정\n",
    "    - $\\bar x$는 $\\mu$의 점추정량\n",
    "    $$\\bar x=\\frac{\\sum x_i}{30}=350$$\n",
    "\n",
    "    - $s$는 $\\sigma$의 점추정량\n",
    "    $$ s=\\sqrt{\\frac{\\sum (x_i-\\bar x)^2 }{29}} = 28$$\n",
    "\n",
    "    - $\\hat p$는 $p$의 점추정량\n",
    "    $$ \\hat p = \\frac{10}{30} \\approx0.33 $$\n",
    "\n",
    "-  다른 표본을 선택하면 점추정값이 다를 수 있다."
   ]
  },
  {
   "cell_type": "markdown",
   "metadata": {
    "lines_to_next_cell": 0,
    "slideshow": {
     "slide_type": "slide"
    }
   },
   "source": [
    "## 3.1 $\\bar X$의 표본분포\n",
    "-  표본평균 $\\bar X$ 의 <font color=\"blue\">모든 가능한</font> 값의 확률 분포 \n",
    "- 900명의 지원자중 30명을 무작위로 뽑는 행위를 여러 번 (예를 들면, 1000번) 반복한다면?\n",
    "\n",
    "|      표본      | 수능성적 평균 ($\\bar x$) |   \n",
    "|:--------------:|:-------------:|\n",
    "|  1,9,34,…, 823 |      350      |   \n",
    "| 3,54,77,…, 789 |      332      |   \n",
    "|  7,12,48,…,892 |      361      |   \n",
    "| $\\vdots$ | $\\vdots$|"
   ]
  },
  {
   "cell_type": "markdown",
   "metadata": {
    "slideshow": {
     "slide_type": "slide"
    }
   },
   "source": [
    "#### 실험\n",
    "- 만일 900명 지원자의 수능점수 분포가 정규분포라면, 1000개의 $\\bar x$는 어떤 분포를 가지는가? "
   ]
  },
  {
   "cell_type": "code",
   "execution_count": 1,
   "metadata": {
    "collapse": true,
    "out.width": 400,
    "slideshow": {
     "slide_type": "skip"
    }
   },
   "outputs": [],
   "source": [
    "# import common\n",
    "import pandas as pd\n",
    "import numpy as np\n",
    "from scipy import stats\n",
    "import seaborn as sns\n",
    "import matplotlib.pylab as plt"
   ]
  },
  {
   "cell_type": "code",
   "execution_count": 3,
   "metadata": {
    "slideshow": {
     "slide_type": "fragment"
    }
   },
   "outputs": [],
   "source": [
    "n=30\n",
    "rep=1000\n",
    "np.random.seed(seed=0)\n",
    "xsample = stats.norm.rvs(size=n*rep, loc=342, scale=30)\n",
    "xsample = np.reshape(xsample, [n,rep])\n",
    "sample_mean = xsample.mean(axis=0)"
   ]
  },
  {
   "cell_type": "code",
   "execution_count": 4,
   "metadata": {
    "slideshow": {
     "slide_type": "slide"
    }
   },
   "outputs": [
    {
     "data": {
      "image/png": "[encoded data removed]",
      "text/plain": [
       "<Figure size 864x360 with 2 Axes>"
      ]
     },
     "metadata": {
      "needs_background": "light"
     },
     "output_type": "display_data"
    }
   ],
   "source": [
    "fig, axes = plt.subplots(ncols=2, figsize=(12, 5))\n",
    "ax = axes[0]\n",
    "x = np.linspace(250, 430, 300)\n",
    "ax.plot(x, stats.norm.pdf(x, loc=342, scale=30))\n",
    "ax.vlines(342,0,0.014,color='red')\n",
    "ax.set_xlim(250, 430)\n",
    "\n",
    "\n",
    "ax = axes[1]\n",
    "ax.hist(sample_mean, bins=30, density=True)\n",
    "ax.set_xlim(250, 430)\n",
    "ax.vlines(342,0,0.09,color='red')\n",
    "plt.show()"
   ]
  },
  {
   "cell_type": "markdown",
   "metadata": {
    "slideshow": {
     "slide_type": "slide"
    }
   },
   "source": [
    "### $\\bar X$ 의 표본분포 \n",
    "- 평균\n",
    "    $$ E(\\bar X)=\\mu $$\n",
    "    - $\\bar X$는 $\\mu$의 _불편추정량(unbiased estimator)_\n",
    "    \n",
    "- 표준편차($\\bar X$의 표준오차, standard error)\n",
    "$$ \\sigma_{\\bar X}= \\frac{\\sigma} {\\sqrt n} $$\n",
    "\n",
    "- 수능성적의 평균의 표본분포 \n",
    "    - $\\bar X$ 의 기대값 $= 342$\n",
    "    - $\\bar X$의 표준편차(표준오차)$= \\frac {30}{\\sqrt{30}}\\approx5.5$\n",
    "    \n",
    "    "
   ]
  },
  {
   "cell_type": "markdown",
   "metadata": {
    "slideshow": {
     "slide_type": "slide"
    }
   },
   "source": [
    "###  중심극한정리 (Central limit theorem; CLT)\n",
    "- 규모가 큰 $(n \\geq 30)$ 단순 무작위 표본을 사용한다면 <font color=\"blue\">모분포가 정규분포가 아니더라도</font> 표본평균의 분포는 <font color=\"blue\">정규분포에  근사한다.</font>\n"
   ]
  },
  {
   "cell_type": "code",
   "execution_count": 5,
   "metadata": {
    "collapse": true,
    "fig.height": 4,
    "slideshow": {
     "slide_type": "fragment"
    }
   },
   "outputs": [],
   "source": [
    "n=30\n",
    "rep=1000\n",
    "np.random.seed(seed=0)\n",
    "xsample = stats.expon.rvs(size=n*rep)\n",
    "xsample = np.reshape(xsample, [n,rep])\n",
    "sample_mean = xsample.mean(axis=0)"
   ]
  },
  {
   "cell_type": "code",
   "execution_count": 6,
   "metadata": {
    "collapse": true,
    "fig.height": 4,
    "slideshow": {
     "slide_type": "slide"
    }
   },
   "outputs": [
    {
     "data": {
      "image/png": "[encoded data removed]",
      "text/plain": [
       "<Figure size 864x360 with 2 Axes>"
      ]
     },
     "metadata": {
      "needs_background": "light"
     },
     "output_type": "display_data"
    }
   ],
   "source": [
    "fig, axes = plt.subplots(ncols=2, figsize=(12, 5))\n",
    "ax = axes[0]\n",
    "x = np.linspace(0, 5, 300)\n",
    "ax.plot(x, stats.expon.pdf(x))\n",
    "ax.set_xlim(0, 5)\n",
    "ax = axes[1]\n",
    "ax.hist(sample_mean, bins=30, density=True)\n",
    "ax.set_xlim(0, 5)\n",
    "ax.set_position\n",
    "plt.show()"
   ]
  },
  {
   "cell_type": "markdown",
   "metadata": {
    "slideshow": {
     "slide_type": "slide"
    }
   },
   "source": [
    "#### 수능성적에 대한    $\\bar X$ 의 표본분포\n",
    "- 30명의 무작위 추출 표본에 대한 평균이 실제 모집단 평균의 +/-  10 안에 있을 확률은 얼마인가?\n",
    " 다시 말해서,   $\\bar X$가 332에서 352 사이에 있을 확률은\n",
    "얼마인가?"
   ]
  },
  {
   "cell_type": "code",
   "execution_count": 8,
   "metadata": {
    "slideshow": {
     "slide_type": "fragment"
    }
   },
   "outputs": [
    {
     "data": {
      "text/plain": [
       "0.932110845138171"
      ]
     },
     "execution_count": 8,
     "metadata": {},
     "output_type": "execute_result"
    }
   ],
   "source": [
    "mu = 342\n",
    "se = 30/np.sqrt(30)\n",
    "stats.norm.cdf(352, loc=mu, scale=se) - stats.norm.cdf(332, loc=mu, scale=se) "
   ]
  },
  {
   "cell_type": "markdown",
   "metadata": {
    "slideshow": {
     "slide_type": "slide"
    }
   },
   "source": [
    "### 표본규모와 $\\bar X$의 표본분포와의 관계\n",
    "- 30명이 아닌 100명의 단순 무작위 표본 추출을 한다면 표본분포는 어떻게 달라지는가?\n",
    "    - $\\bar X$의 평균 $E(\\bar X)=$<br><br>\n",
    "\n",
    "    - $\\bar x$의 표준오차 $\\sigma_{\\bar X}=$<br><br>\n",
    "\n",
    "- n이 커지면 $\\bar x$의 표준오차가 작아진다. <font color=\"blue\"> $\\Rightarrow$ 더 정확한 추정치 계산 가능! </font>"
   ]
  },
  {
   "cell_type": "markdown",
   "metadata": {
    "slideshow": {
     "slide_type": "slide"
    }
   },
   "source": [
    "\n",
    "## 3.2 $\\hat p$의 표본분포\n",
    "\n",
    "- $\\hat p$의 표본분포는 표본비율의  모든 가능한 값의 \n",
    "   확률분포\n",
    "   \n",
    "|      표본      | 기숙사 희망비율 ($\\hat p$) |   \n",
    "|:--------------:|:-------------:|\n",
    "|  1,9,34,…, 823 |      0.33      |   \n",
    "| 3,54,77,…, 789 |      0.28      |   \n",
    "|  7,12,48,…,892 |      0.35      |   \n",
    "| $\\vdots$ | $\\vdots$|\n"
   ]
  },
  {
   "cell_type": "markdown",
   "metadata": {
    "lines_to_next_cell": 0,
    "slideshow": {
     "slide_type": "slide"
    }
   },
   "source": [
    "- 30개의 표본을 1000번 반복추출하여 계산한 $\\hat p$의 분포는 어떤 형태인가?\n",
    "    - X: 30명 중 기숙사를 희망하는 학생 수\n",
    "    - p: 기숙사 희망학생의  모집단 비율 = 0.36\n",
    "        $$X \\sim Bin(30, 0.36 ) $$\n",
    "        $$\\hat p = \\frac X {30}$$\n"
   ]
  },
  {
   "cell_type": "code",
   "execution_count": 10,
   "metadata": {
    "collapse": true,
    "out.height": 500,
    "out.width": 500,
    "slideshow": {
     "slide_type": "slide"
    }
   },
   "outputs": [
    {
     "data": {
      "image/png": "[encoded data removed]",
      "text/plain": [
       "<Figure size 432x288 with 1 Axes>"
      ]
     },
     "metadata": {
      "needs_background": "light"
     },
     "output_type": "display_data"
    }
   ],
   "source": [
    "n=30\n",
    "rep=1000\n",
    "np.random.seed(seed=0)\n",
    "xsample = stats.binom.rvs(1, 0.36, size=n*rep)\n",
    "xsample = np.reshape(xsample, [n,rep])\n",
    "sample_p = xsample.sum(axis=0)/30\n",
    "\n",
    "plt.hist(sample_p, bins=15, density=True)\n",
    "plt.xlim(0, 1)\n",
    "plt.vlines(0.36,0,5,color='red')\n",
    "plt.show()"
   ]
  },
  {
   "cell_type": "markdown",
   "metadata": {
    "slideshow": {
     "slide_type": "slide"
    }
   },
   "source": [
    "### $\\hat p$의 표본분포\n",
    "- $\\hat p$의 기대값 \n",
    "$$E(\\hat p)=p$$\n",
    "  \n",
    "- $\\hat p$의 표준편차(표준오차)  \n",
    "$$  \\sigma_{\\hat p} = \\sqrt{\\frac {p(1-p)}{n}} $$\n",
    "\n",
    "    - 위의 기대값과 표준편차는 어떻게 나온 것인가?\n",
    "        - recall: $ X \\sim Bin(n,p) $\n",
    "    $$ E(X) = np$$\n",
    "    $$ Var(X) = np(1-p)$$ \n",
    "        "
   ]
  },
  {
   "cell_type": "markdown",
   "metadata": {
    "slideshow": {
     "slide_type": "slide"
    }
   },
   "source": [
    " \n",
    "### $\\hat p$의 표본분포의 형태\n",
    "- $\\hat p$의 표본분포는 표본의 규모가 커질수록 정규분포에 근사한다.\n",
    "- 조건: $np \\geq 5 ~\\& ~n(1 – p) \\geq 5$\n",
    "    - 모집단 비율이 0.5에 가깝다면, 표본 규모가 10 정도로 작다고  하더라도 정규분포를 이용 가능\n",
    "    - 모집단 비율 p가 매우 크거나(1에 가까운경우) 또는 매우 작을 경우(0에 가까운 경우)에는\n",
    "    매우 큰 표본이 필요"
   ]
  },
  {
   "cell_type": "markdown",
   "metadata": {
    "slideshow": {
     "slide_type": "slide"
    }
   },
   "source": [
    "#### 기숙사 지원 학생 비율의 표본분포 \n",
    "- 앞의 예에서 지원자의 36%의 학생이 기숙사 생활을 희망하는 것으로 조사 되었다.\n",
    "30명의 단순 무작위 추출표본으로부터 (기숙사 생활을 희망하는) 모집단 비율 추정치가 실제 모집단 비율의  +/- . 05 이내에  있을 확률은 얼마인가?\n",
    " \n",
    "$$ \\hat p \\approx N\\left( 0.36, \\sqrt{\\frac{0.36(1-0.36)}{30}} \\right)$$\n"
   ]
  },
  {
   "cell_type": "code",
   "execution_count": 11,
   "metadata": {
    "slideshow": {
     "slide_type": "fragment"
    }
   },
   "outputs": [
    {
     "data": {
      "text/plain": [
       "0.4316914361938051"
      ]
     },
     "execution_count": 11,
     "metadata": {},
     "output_type": "execute_result"
    }
   ],
   "source": [
    "p = 0.36\n",
    "p_se = np.sqrt(0.36*(1-0.36)/30)\n",
    "stats.norm.cdf(0.41, loc = p, scale = p_se) - stats.norm.cdf(0.31, loc = p, scale = p_se)"
   ]
  }
 ],
 "metadata": {
  "jupytext": {
   "cell_metadata_filter": "out.width,fig.height,out.height,collapse,name,echo,tags,-all",
   "main_language": "R",
   "notebook_metadata_filter": "-all"
  },
  "kernelspec": {
   "display_name": "Python 3",
   "language": "python",
   "name": "python3"
  },
  "language_info": {
   "codemirror_mode": {
    "name": "ipython",
    "version": 3
   },
   "file_extension": ".py",
   "mimetype": "text/x-python",
   "name": "python",
   "nbconvert_exporter": "python",
   "pygments_lexer": "ipython3",
   "version": "3.8.5"
  }
 },
 "nbformat": 4,
 "nbformat_minor": 4
}
