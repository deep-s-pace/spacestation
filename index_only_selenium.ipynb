{
 "cells": [
  {
   "cell_type": "code",
   "execution_count": 1,
   "metadata": {},
   "outputs": [],
   "source": [
    "\n",
    "from selenium import webdriver\n",
    "from selenium.webdriver.common.keys import Keys\n",
    "from selenium.webdriver.support.ui import Select\n",
    "from ast import keyword\n",
    "from re import S\n",
    "from urllib import request\n",
    "from bs4 import BeautifulSoup\n",
    "import pandas as pd\n",
    "import pymysql\n",
    "import schedule\n",
    "import time"
   ]
  },
  {
   "cell_type": "code",
   "execution_count": 2,
   "metadata": {},
   "outputs": [
    {
     "name": "stdout",
     "output_type": "stream",
     "text": [
      "2022-08-23 20220822 22-08-23\n"
     ]
    }
   ],
   "source": [
    "from datetime import date\n",
    "from datetime import timedelta\n",
    "today = date.today() # 오늘 날짜(초까지 나옴)\n",
    "todayii = today.strftime(\"%y-%m-%d\") # 형식 바꿔주기\n",
    "todayi = today-timedelta(days=1)\n",
    "todayi = todayi.strftime(\"%Y%m%d\")\n",
    "\n",
    "print(today,todayi,todayii)"
   ]
  },
  {
   "cell_type": "code",
   "execution_count": 3,
   "metadata": {},
   "outputs": [
    {
     "name": "stderr",
     "output_type": "stream",
     "text": [
      "<ipython-input-3-63286a9a278b>:4: DeprecationWarning: executable_path has been deprecated, please pass in a Service object\n",
      "  driver = webdriver.Chrome('C:/Users/sdg/Desktop/simwooju/chromedriver_win32/chromedriver.exe')\n"
     ]
    },
    {
     "name": "stdout",
     "output_type": "stream",
     "text": [
      "2,800.41\n"
     ]
    },
    {
     "name": "stderr",
     "output_type": "stream",
     "text": [
      "<ipython-input-3-63286a9a278b>:11: DeprecationWarning: find_element_by_class_name is deprecated. Please use find_element(by=By.CLASS_NAME, value=name) instead\n",
      "  keyword9 = driver.find_element_by_class_name(\"published-value\")\n"
     ]
    }
   ],
   "source": [
    "# S&P Real Asset Index (USD)\n",
    "# keyword9\n",
    "\n",
    "driver = webdriver.Chrome('C:/Users/sdg/Desktop/simwooju/chromedriver_win32/chromedriver.exe')\n",
    "driver.implicitly_wait(10) # seconds\n",
    "url='https://www.spglobal.com/spdji/en/indices/multi-asset/sp-real-assets-index/#overview'\n",
    "driver.get(url)\n",
    "time.sleep(10)\n",
    "\n",
    "# S&P Real Asset Index (USD) 지수추출\n",
    "keyword9 = driver.find_element_by_class_name(\"published-value\")\n",
    "keyword9 = keyword9.text\n",
    "print(keyword9)"
   ]
  },
  {
   "cell_type": "code",
   "execution_count": 4,
   "metadata": {},
   "outputs": [
    {
     "name": "stderr",
     "output_type": "stream",
     "text": [
      "<ipython-input-4-3637b7a9b7fe>:4: DeprecationWarning: executable_path has been deprecated, please pass in a Service object\n",
      "  driver = webdriver.Chrome('C:/Users/sdg/Desktop/simwooju/chromedriver_win32/chromedriver.exe')\n"
     ]
    },
    {
     "name": "stdout",
     "output_type": "stream",
     "text": [
      "2,812.19\n"
     ]
    },
    {
     "name": "stderr",
     "output_type": "stream",
     "text": [
      "<ipython-input-4-3637b7a9b7fe>:11: DeprecationWarning: find_element_by_class_name is deprecated. Please use find_element(by=By.CLASS_NAME, value=name) instead\n",
      "  keyword10 = driver.find_element_by_class_name(\"published-value\")\n"
     ]
    }
   ],
   "source": [
    "# S&P Global Infrastructure TR(USD)\n",
    "# keyword10\n",
    "\n",
    "driver = webdriver.Chrome('C:/Users/sdg/Desktop/simwooju/chromedriver_win32/chromedriver.exe')\n",
    "driver.implicitly_wait(10) # seconds\n",
    "\n",
    "url2='https://www.spglobal.com/spdji/en/indices/equity/sp-global-infrastructure-index/#overview'\n",
    "driver.get(url2)\n",
    "time.sleep(8)\n",
    "\n",
    "keyword10 = driver.find_element_by_class_name(\"published-value\")\n",
    "keyword10 = keyword10.text\n",
    "print(keyword10)"
   ]
  },
  {
   "cell_type": "code",
   "execution_count": 5,
   "metadata": {},
   "outputs": [
    {
     "name": "stderr",
     "output_type": "stream",
     "text": [
      "<ipython-input-5-09a513e790c9>:4: DeprecationWarning: executable_path has been deprecated, please pass in a Service object\n",
      "  driver = webdriver.Chrome('C:/Users/sdg/Desktop/simwooju/chromedriver_win32/chromedriver.exe')\n",
      "<ipython-input-5-09a513e790c9>:10: DeprecationWarning: find_element_by_xpath is deprecated. Please use find_element(by=By.XPATH, value=xpath) instead\n",
      "  driver.find_element_by_xpath('/html/body/div[2]/section[2]/section/section/div/div/form/div[1]/div/table/tbody/tr[2]/td/div/div/input').clear()\n",
      "<ipython-input-5-09a513e790c9>:12: DeprecationWarning: find_element_by_xpath is deprecated. Please use find_element(by=By.XPATH, value=xpath) instead\n",
      "  driver.find_element_by_xpath('/html/body/div[2]/section[2]/section/section/div/div/form/div[1]/div/table/tbody/tr[2]/td/div/div/input').send_keys(todayi)\n",
      "<ipython-input-5-09a513e790c9>:14: DeprecationWarning: find_element_by_xpath is deprecated. Please use find_element(by=By.XPATH, value=xpath) instead\n",
      "  driver.find_element_by_xpath('/html/body/div[2]/section[2]/section/section/div/div/form/div[1]/div/a').click()\n"
     ]
    },
    {
     "name": "stdout",
     "output_type": "stream",
     "text": [
      "1,467.98\n"
     ]
    },
    {
     "name": "stderr",
     "output_type": "stream",
     "text": [
      "<ipython-input-5-09a513e790c9>:17: DeprecationWarning: find_element_by_class_name is deprecated. Please use find_element(by=By.CLASS_NAME, value=name) instead\n",
      "  keyword6 = driver.find_element_by_class_name(\"CI-GRID-ALIGN-RIGHT\")\n"
     ]
    }
   ],
   "source": [
    "# KRX GB Index\n",
    "# keyword6\n",
    "\n",
    "driver = webdriver.Chrome('C:/Users/sdg/Desktop/simwooju/chromedriver_win32/chromedriver.exe')\n",
    "driver.implicitly_wait(10) # seconds\n",
    "\n",
    "url6='http://data.krx.co.kr/contents/MDC/MDI/mdiLoader/index.cmd?menuId=MDC0201010101'\n",
    "driver.get(url6)\n",
    "time.sleep(3)\n",
    "driver.find_element_by_xpath('/html/body/div[2]/section[2]/section/section/div/div/form/div[1]/div/table/tbody/tr[2]/td/div/div/input').clear()\n",
    "driver.implicitly_wait(15)\n",
    "driver.find_element_by_xpath('/html/body/div[2]/section[2]/section/section/div/div/form/div[1]/div/table/tbody/tr[2]/td/div/div/input').send_keys(todayi)\n",
    "driver.implicitly_wait(5)\n",
    "driver.find_element_by_xpath('/html/body/div[2]/section[2]/section/section/div/div/form/div[1]/div/a').click()\n",
    "time.sleep(15)\n",
    "\n",
    "keyword6 = driver.find_element_by_class_name(\"CI-GRID-ALIGN-RIGHT\")\n",
    "keyword6 = keyword6.text\n",
    "print(keyword6)"
   ]
  },
  {
   "cell_type": "code",
   "execution_count": 6,
   "metadata": {},
   "outputs": [
    {
     "name": "stderr",
     "output_type": "stream",
     "text": [
      "<ipython-input-6-c2937e6ab4fd>:4: DeprecationWarning: executable_path has been deprecated, please pass in a Service object\n",
      "  driver = webdriver.Chrome('C:/Users/sdg/Desktop/simwooju/chromedriver_win32/chromedriver.exe')\n",
      "<ipython-input-6-c2937e6ab4fd>:11: DeprecationWarning: find_element_by_xpath is deprecated. Please use find_element(by=By.XPATH, value=xpath) instead\n",
      "  driver.find_element_by_xpath('/html/body/section/section[3]/div/div/div[2]/div/div[1]/div/section[1]/form/div/div[1]/input').send_keys(\"miniunisim@gmail.com\")\n",
      "<ipython-input-6-c2937e6ab4fd>:12: DeprecationWarning: find_element_by_xpath is deprecated. Please use find_element(by=By.XPATH, value=xpath) instead\n",
      "  driver.find_element_by_xpath('/html/body/section/section[3]/div/div/div[2]/div/div[1]/div/section[1]/form/div/div[2]/input').send_keys(\"awse20121014\")\n",
      "<ipython-input-6-c2937e6ab4fd>:14: DeprecationWarning: find_element_by_xpath is deprecated. Please use find_element(by=By.XPATH, value=xpath) instead\n",
      "  driver.find_element_by_xpath('/html/body/section/section[3]/div/div/div[2]/div/div[1]/div/section[1]/form/div/div[3]/button').click()\n"
     ]
    },
    {
     "name": "stdout",
     "output_type": "stream",
     "text": [
      "10,720.39\n"
     ]
    },
    {
     "name": "stderr",
     "output_type": "stream",
     "text": [
      "<ipython-input-6-c2937e6ab4fd>:17: DeprecationWarning: find_element_by_class_name is deprecated. Please use find_element(by=By.CLASS_NAME, value=name) instead\n",
      "  keyword12s = driver.find_element_by_class_name(\"amChartsLegend.amcharts-legend-div\").text\n"
     ]
    }
   ],
   "source": [
    "#HFRI RV: Fixed Income-Convertible Arbitrage Index(USD)\n",
    "#keyword12\n",
    "\n",
    "driver = webdriver.Chrome('C:/Users/sdg/Desktop/simwooju/chromedriver_win32/chromedriver.exe')\n",
    "driver.implicitly_wait(10) # seconds\n",
    "\n",
    "url12='https://www.hfr.com/indices/hfri-rv-fixed-income-convertible-arbitrage-index'\n",
    "driver.get(url12)\n",
    "time.sleep(3)\n",
    "\n",
    "driver.find_element_by_xpath('/html/body/section/section[3]/div/div/div[2]/div/div[1]/div/section[1]/form/div/div[1]/input').send_keys(\"miniunisim@gmail.com\")\n",
    "driver.find_element_by_xpath('/html/body/section/section[3]/div/div/div[2]/div/div[1]/div/section[1]/form/div/div[2]/input').send_keys(\"awse20121014\")\n",
    "driver.implicitly_wait(5)\n",
    "driver.find_element_by_xpath('/html/body/section/section[3]/div/div/div[2]/div/div[1]/div/section[1]/form/div/div[3]/button').click()\n",
    "time.sleep(20)\n",
    "\n",
    "keyword12s = driver.find_element_by_class_name(\"amChartsLegend.amcharts-legend-div\").text\n",
    "keyword12 = keyword12s[-9:]\n",
    "print(keyword12)"
   ]
  },
  {
   "cell_type": "code",
   "execution_count": 7,
   "metadata": {
    "scrolled": false
   },
   "outputs": [
    {
     "name": "stdout",
     "output_type": "stream",
     "text": [
      "1,923.85\n"
     ]
    },
    {
     "name": "stderr",
     "output_type": "stream",
     "text": [
      "<ipython-input-7-4ce0a007a6c6>:8: DeprecationWarning: find_element_by_class_name is deprecated. Please use find_element(by=By.CLASS_NAME, value=name) instead\n",
      "  keyword13s = driver.find_element_by_class_name(\"amcharts-main-div\").text\n"
     ]
    }
   ],
   "source": [
    "# HFRI Credit Index(USD)\n",
    "# keyword13\n",
    "\n",
    "url13='https://www.hfr.com/indices/hfri-credit-index'\n",
    "driver.get(url13)\n",
    "time.sleep(3)\n",
    "\n",
    "keyword13s = driver.find_element_by_class_name(\"amcharts-main-div\").text\n",
    "keyword13 = keyword13s[24:32]\n",
    "print(keyword13)"
   ]
  },
  {
   "cell_type": "code",
   "execution_count": 8,
   "metadata": {
    "scrolled": true
   },
   "outputs": [
    {
     "name": "stderr",
     "output_type": "stream",
     "text": [
      "<ipython-input-8-142d4ee4aacf>:4: DeprecationWarning: executable_path has been deprecated, please pass in a Service object\n",
      "  driver = webdriver.Chrome('C:/Users/sdg/Desktop/simwooju/chromedriver_win32/chromedriver.exe')\n",
      "<ipython-input-8-142d4ee4aacf>:8: DeprecationWarning: find_element_by_xpath is deprecated. Please use find_element(by=By.XPATH, value=xpath) instead\n",
      "  driver.find_element_by_xpath('/html/body/div/div[5]/div[8]/div/div/div/div[1]/div/div[2]/div/div[2]/div/div[1]/div/div[1]/div/div[1]/div[1]/div[1]/table/tbody/tr[1]/td/div[1]').click()\n",
      "<ipython-input-8-142d4ee4aacf>:10: DeprecationWarning: find_element_by_xpath is deprecated. Please use find_element(by=By.XPATH, value=xpath) instead\n",
      "  driver.find_element_by_xpath('//*[@id=\"root\"]/div[5]/div[8]/div/div/div/div[1]/div/div[2]/div/div[2]/div/div[1]/div/div[1]/div/div[1]/div[1]/div[1]/table/tbody/tr[4]/td/div[1]').click()\n",
      "<ipython-input-8-142d4ee4aacf>:12: DeprecationWarning: find_element_by_xpath is deprecated. Please use find_element(by=By.XPATH, value=xpath) instead\n",
      "  driver.find_element_by_xpath('/html/body/div/div[5]/div[8]/div/div/div/div[1]/div/div[2]/div/div[2]/div/div[1]/div/div[1]/div/div[1]/div[1]/div[1]/table/tbody/tr[6]/td/div[1]').click()\n",
      "<ipython-input-8-142d4ee4aacf>:14: DeprecationWarning: find_element_by_xpath is deprecated. Please use find_element(by=By.XPATH, value=xpath) instead\n",
      "  driver.find_element_by_xpath('/html/body/div/div[5]/div[8]/div/div/div/div[1]/div/div[2]/div/div[2]/div/div[1]/div/div[1]/div/div[1]/div[1]/div[1]/table/tbody/tr[7]/td/div[1]').click()\n",
      "<ipython-input-8-142d4ee4aacf>:16: DeprecationWarning: find_element_by_xpath is deprecated. Please use find_element(by=By.XPATH, value=xpath) instead\n",
      "  driver.find_element_by_xpath('/html/body/div/div[5]/div[8]/div/div/div/div[2]/div/div[2]/div/div[2]/div/div/div[2]/div[1]/div/div[1]/div/div[1]/div[5]/div[1]/table/tbody/tr[8]/td/div/span').click()\n",
      "<ipython-input-8-142d4ee4aacf>:18: DeprecationWarning: find_element_by_xpath is deprecated. Please use find_element(by=By.XPATH, value=xpath) instead\n",
      "  driver.find_element_by_xpath('/html/body/div/div[5]/div[8]/div/div/div/div[2]/div/div[2]/div/div[3]/div/button[1]').click()\n"
     ]
    },
    {
     "name": "stdout",
     "output_type": "stream",
     "text": [
      "2.76\n"
     ]
    }
   ],
   "source": [
    "# Cd\n",
    "# keyword15\n",
    "\n",
    "driver = webdriver.Chrome('C:/Users/sdg/Desktop/simwooju/chromedriver_win32/chromedriver.exe')\n",
    "url='https://ecos.bok.or.kr/#/SearchStat'\n",
    "driver.get(url)\n",
    "driver.implicitly_wait(15)\n",
    "driver.find_element_by_xpath('/html/body/div/div[5]/div[8]/div/div/div/div[1]/div/div[2]/div/div[2]/div/div[1]/div/div[1]/div/div[1]/div[1]/div[1]/table/tbody/tr[1]/td/div[1]').click()\n",
    "driver.implicitly_wait(25)\n",
    "driver.find_element_by_xpath('//*[@id=\"root\"]/div[5]/div[8]/div/div/div/div[1]/div/div[2]/div/div[2]/div/div[1]/div/div[1]/div/div[1]/div[1]/div[1]/table/tbody/tr[4]/td/div[1]').click()\n",
    "driver.implicitly_wait(25)\n",
    "driver.find_element_by_xpath('/html/body/div/div[5]/div[8]/div/div/div/div[1]/div/div[2]/div/div[2]/div/div[1]/div/div[1]/div/div[1]/div[1]/div[1]/table/tbody/tr[6]/td/div[1]').click()\n",
    "driver.implicitly_wait(25)\n",
    "driver.find_element_by_xpath('/html/body/div/div[5]/div[8]/div/div/div/div[1]/div/div[2]/div/div[2]/div/div[1]/div/div[1]/div/div[1]/div[1]/div[1]/table/tbody/tr[7]/td/div[1]').click()\n",
    "driver.implicitly_wait(25)\n",
    "driver.find_element_by_xpath('/html/body/div/div[5]/div[8]/div/div/div/div[2]/div/div[2]/div/div[2]/div/div/div[2]/div[1]/div/div[1]/div/div[1]/div[5]/div[1]/table/tbody/tr[8]/td/div/span').click()\n",
    "driver.implicitly_wait(25)\n",
    "driver.find_element_by_xpath('/html/body/div/div[5]/div[8]/div/div/div/div[2]/div/div[2]/div/div[3]/div/button[1]').click()\n",
    "\n",
    "time.sleep(15)\n",
    "\n",
    "html = driver.page_source\n",
    "\n",
    "    #BeautifulSoup을 사용해 웹페이지 분석하기\n",
    "soup = BeautifulSoup(html, 'html.parser') #beautifulsoup 객체생성\n",
    "keyword15 = soup.find_all('div', class_= 'rg-renderer') #데이터에서 태그와 클래스를 찾는 함수\n",
    "    #get_text() == 데이터에서 문자열만 추출\n",
    "    #strip() == 데이터 양옆 공백 제거\n",
    "keyword15 = [each_line.get_text().strip() for each_line in keyword15]\n",
    "driver.implicitly_wait(25)\n",
    "keyword15 = keyword15[-5]\n",
    "# keyword15=\"1.96\"\n",
    "print(keyword15)"
   ]
  },
  {
   "cell_type": "code",
   "execution_count": 9,
   "metadata": {},
   "outputs": [
    {
     "name": "stderr",
     "output_type": "stream",
     "text": [
      "<ipython-input-9-d376c533b67d>:4: DeprecationWarning: executable_path has been deprecated, please pass in a Service object\n",
      "  driver = webdriver.Chrome('C:/Users/sdg/Desktop/simwooju/chromedriver_win32/chromedriver.exe')\n",
      "<ipython-input-9-d376c533b67d>:9: DeprecationWarning: find_element_by_xpath is deprecated. Please use find_element(by=By.XPATH, value=xpath) instead\n",
      "  driver.find_element_by_xpath('/html/body/div[2]/section[2]/section/section/div/div/form/div[1]/div/table/tbody/tr[1]/td/label[2]').click()\n",
      "<ipython-input-9-d376c533b67d>:11: DeprecationWarning: find_element_by_xpath is deprecated. Please use find_element(by=By.XPATH, value=xpath) instead\n",
      "  driver.find_element_by_xpath('/html/body/div[2]/section[2]/section/section/div/div/form/div[1]/div/table/tbody/tr[2]/td/div/div/input').clear()\n",
      "<ipython-input-9-d376c533b67d>:13: DeprecationWarning: find_element_by_xpath is deprecated. Please use find_element(by=By.XPATH, value=xpath) instead\n",
      "  driver.find_element_by_xpath('/html/body/div[2]/section[2]/section/section/div/div/form/div[1]/div/table/tbody/tr[2]/td/div/div/input').send_keys(todayi)\n",
      "<ipython-input-9-d376c533b67d>:15: DeprecationWarning: find_element_by_xpath is deprecated. Please use find_element(by=By.XPATH, value=xpath) instead\n",
      "  driver.find_element_by_xpath('/html/body/div[2]/section[2]/section/section/div/div/form/div[1]/div/a').click()\n",
      "<ipython-input-9-d376c533b67d>:17: DeprecationWarning: find_element_by_xpath is deprecated. Please use find_element(by=By.XPATH, value=xpath) instead\n",
      "  driver.find_element_by_xpath('/html/body/div[2]/section[2]/section/section/div/div/form/div[1]/div/a').click()\n"
     ]
    },
    {
     "name": "stdout",
     "output_type": "stream",
     "text": [
      "2,462.50\n"
     ]
    },
    {
     "name": "stderr",
     "output_type": "stream",
     "text": [
      "<ipython-input-9-d376c533b67d>:20: DeprecationWarning: find_element_by_class_name is deprecated. Please use find_element(by=By.CLASS_NAME, value=name) instead\n",
      "  keyword16 = driver.find_element_by_class_name(\"CI-GRID-ODD\").text\n"
     ]
    }
   ],
   "source": [
    "# Kospi\n",
    "# keyword16\n",
    "\n",
    "driver = webdriver.Chrome('C:/Users/sdg/Desktop/simwooju/chromedriver_win32/chromedriver.exe')\n",
    "krx_url='http://data.krx.co.kr/contents/MDC/MDI/mdiLoader/index.cmd?menuId=MDC0201010101'\n",
    "driver.get(krx_url)\n",
    "driver.implicitly_wait(3)\n",
    "\n",
    "driver.find_element_by_xpath('/html/body/div[2]/section[2]/section/section/div/div/form/div[1]/div/table/tbody/tr[1]/td/label[2]').click()\n",
    "driver.implicitly_wait(30) # seconds\n",
    "driver.find_element_by_xpath('/html/body/div[2]/section[2]/section/section/div/div/form/div[1]/div/table/tbody/tr[2]/td/div/div/input').clear()\n",
    "driver.implicitly_wait(25)\n",
    "driver.find_element_by_xpath('/html/body/div[2]/section[2]/section/section/div/div/form/div[1]/div/table/tbody/tr[2]/td/div/div/input').send_keys(todayi)\n",
    "driver.implicitly_wait(25)\n",
    "driver.find_element_by_xpath('/html/body/div[2]/section[2]/section/section/div/div/form/div[1]/div/a').click()\n",
    "time.sleep(7)\n",
    "driver.find_element_by_xpath('/html/body/div[2]/section[2]/section/section/div/div/form/div[1]/div/a').click()\n",
    "time.sleep(7)\n",
    "\n",
    "keyword16 = driver.find_element_by_class_name(\"CI-GRID-ODD\").text\n",
    "keyword16 = keyword16[4:12]\n",
    "#keyword16=\"2,695.86\"\n",
    "print(keyword16)\n",
    "\n",
    "# soup = BeautifulSoup(html, 'html.parser')\n",
    "# kospi = soup.find_all('tr', class_='CI-GRID-ODD')\n",
    "# kospi = [each_line.get_text().strip() for each_line in kospi]\n",
    "# kospi = kospi\n",
    "# print(kospi)"
   ]
  },
  {
   "cell_type": "code",
   "execution_count": 10,
   "metadata": {},
   "outputs": [
    {
     "name": "stderr",
     "output_type": "stream",
     "text": [
      "<ipython-input-10-1834c9d86de4>:4: DeprecationWarning: executable_path has been deprecated, please pass in a Service object\n",
      "  driver = webdriver.Chrome('C:/Users/sdg/Desktop/simwooju/chromedriver_win32/chromedriver.exe')\n",
      "<ipython-input-10-1834c9d86de4>:11: DeprecationWarning: find_element_by_xpath is deprecated. Please use find_element(by=By.XPATH, value=xpath) instead\n",
      "  driver.find_element_by_xpath('/html/body/div/div[2]/div[1]/div/button[2]').click()\n",
      "<ipython-input-10-1834c9d86de4>:13: DeprecationWarning: find_element_by_xpath is deprecated. Please use find_element(by=By.XPATH, value=xpath) instead\n",
      "  driver.find_element_by_xpath('/html/body/idx-root/voyager-app-root/div/voyager-app-modal/voyager-modal/div/div[1]/div[2]/div/button[1]').click()\n",
      "<ipython-input-10-1834c9d86de4>:16: DeprecationWarning: find_element_by_class_name is deprecated. Please use find_element(by=By.CLASS_NAME, value=name) instead\n",
      "  keyword17 = driver.find_element_by_class_name(\"level\")\n"
     ]
    },
    {
     "name": "stdout",
     "output_type": "stream",
     "text": [
      "264.5928\n"
     ]
    }
   ],
   "source": [
    "# Barclays Global Index(USD)\n",
    "# keyword17\n",
    "\n",
    "driver = webdriver.Chrome('C:/Users/sdg/Desktop/simwooju/chromedriver_win32/chromedriver.exe')\n",
    "driver.implicitly_wait(10) # seconds\n",
    "\n",
    "url17='https://indices.barclays/IM/33/en/indices/details.app;ticker=BXIISG6E'\n",
    "driver.get(url17)\n",
    "time.sleep(3)\n",
    "\n",
    "driver.find_element_by_xpath('/html/body/div/div[2]/div[1]/div/button[2]').click()\n",
    "driver.implicitly_wait(15)\n",
    "driver.find_element_by_xpath('/html/body/idx-root/voyager-app-root/div/voyager-app-modal/voyager-modal/div/div[1]/div[2]/div/button[1]').click()\n",
    "driver.implicitly_wait(15)\n",
    "\n",
    "keyword17 = driver.find_element_by_class_name(\"level\")\n",
    "keyword17 = keyword17.text\n",
    "# keyword17 = \"-\"\n",
    "print(keyword17)"
   ]
  },
  {
   "cell_type": "code",
   "execution_count": 11,
   "metadata": {},
   "outputs": [],
   "source": [
    "# MSCI ACWI Index(USD)\n",
    "# keyword18 -> 최악의 경우 csv 다운받아야함\n",
    "\n",
    "#driver = webdriver.Chrome('C:/Users/sdg/Desktop/chromedriver_win32/chromedriver.exe')\n",
    "#driver.implicitly_wait(10) # seconds\n",
    "\n",
    "#url18='https://www.msci.com/end-of-day-history?chart=regional&priceLevel=0&scope=R&style=C&asOf=Dec%2003,%202021&currency=15&size=36&indexId=2591'\n",
    "#driver.get(url18)\n",
    "#time.sleep(3)\n",
    "\n",
    "#driver.find_element_by_xpath('/html/body/div[6]/div[3]/div/div[1]/div/div[2]/div/button[2]').click()\n",
    "#driver.find_element_by_xpath('/html/body/div[1]/section/div[1]/div/div[3]/div/section/div/div[2]/section/div/div[2]/div/div/button[1]').click()\n",
    "#driver.implicitly_wait(10)\n",
    "#keyword18 = driver.find_element_by_xpath('/html/body/div[1]/div/section/div/div[4]/div[2]/div/div/div/svg/g[8]/g[2]/text/tspan[3]').get_attribute('innerText')\n",
    "#keyword18 = driver.find_element_by_class_name(\"col-md\")\n",
    "#print(keyword18.text)"
   ]
  },
  {
   "cell_type": "code",
   "execution_count": 19,
   "metadata": {},
   "outputs": [],
   "source": [
    "# MSCI EM Index(USD)\n",
    "# keyword19 -> 최악의 경우 csv 다운받아야함\n",
    "\n",
    "#driver = webdriver.Chrome('C:/Users/sdg/Desktop/chromedriver_win32/chromedriver.exe')\n",
    "#driver.implicitly_wait(10) # seconds\n",
    "\n",
    "#url19='https://www.msci.com/end-of-day-history?chart=regional&priceLevel=41&scope=R&style=C&currency=15&size=36&indexId=13'\n",
    "#driver.get(url19)\n",
    "#time.sleep(3)\n",
    "\n",
    "#driver.find_element_by_xpath('/html/body/div[6]/div[3]/div/div[1]/div/div[2]/div/button[2]').click()\n",
    "#driver.find_element_by_xpath('/html/body/div[1]/section/div[1]/div/div[3]/div/section/div/div[2]/section/div/div[2]/div/div/button[1]').click()\n",
    "#driver.implicitly_wait(10)\n",
    "#keyword19 = driver.find_element_by_xpath('/html/body/div[1]/div/section/div/div[4]/div[2]/div/div/div/svg/g[8]/g[2]/text/tspan[3]').get_attribute('innerText')\n",
    "#keyword19 = driver.find_element_by_class_name(\"col-md\")\n",
    "#print(keyword19.text)"
   ]
  },
  {
   "cell_type": "code",
   "execution_count": 12,
   "metadata": {},
   "outputs": [
    {
     "ename": "KeyboardInterrupt",
     "evalue": "",
     "output_type": "error",
     "traceback": [
      "\u001b[1;31m---------------------------------------------------------------------------\u001b[0m",
      "\u001b[1;31mConnectionResetError\u001b[0m                      Traceback (most recent call last)",
      "\u001b[1;32m~\\anaconda3\\lib\\socket.py\u001b[0m in \u001b[0;36mreadinto\u001b[1;34m(self, b)\u001b[0m\n\u001b[0;32m    668\u001b[0m             \u001b[1;32mtry\u001b[0m\u001b[1;33m:\u001b[0m\u001b[1;33m\u001b[0m\u001b[1;33m\u001b[0m\u001b[0m\n\u001b[1;32m--> 669\u001b[1;33m                 \u001b[1;32mreturn\u001b[0m \u001b[0mself\u001b[0m\u001b[1;33m.\u001b[0m\u001b[0m_sock\u001b[0m\u001b[1;33m.\u001b[0m\u001b[0mrecv_into\u001b[0m\u001b[1;33m(\u001b[0m\u001b[0mb\u001b[0m\u001b[1;33m)\u001b[0m\u001b[1;33m\u001b[0m\u001b[1;33m\u001b[0m\u001b[0m\n\u001b[0m\u001b[0;32m    670\u001b[0m             \u001b[1;32mexcept\u001b[0m \u001b[0mtimeout\u001b[0m\u001b[1;33m:\u001b[0m\u001b[1;33m\u001b[0m\u001b[1;33m\u001b[0m\u001b[0m\n",
      "\u001b[1;31mConnectionResetError\u001b[0m: [WinError 10054] 현재 연결은 원격 호스트에 의해 강제로 끊겼습니다",
      "\nDuring handling of the above exception, another exception occurred:\n",
      "\u001b[1;31mKeyboardInterrupt\u001b[0m                         Traceback (most recent call last)",
      "\u001b[1;32m<ipython-input-12-96d78bc24957>\u001b[0m in \u001b[0;36m<module>\u001b[1;34m\u001b[0m\n\u001b[1;32m----> 1\u001b[1;33m \u001b[0mconn\u001b[0m\u001b[1;33m=\u001b[0m\u001b[0mpymysql\u001b[0m\u001b[1;33m.\u001b[0m\u001b[0mconnect\u001b[0m\u001b[1;33m(\u001b[0m\u001b[0mhost\u001b[0m\u001b[1;33m=\u001b[0m\u001b[1;34m'localhost'\u001b[0m\u001b[1;33m,\u001b[0m \u001b[0muser\u001b[0m\u001b[1;33m=\u001b[0m\u001b[1;34m'root'\u001b[0m\u001b[1;33m,\u001b[0m \u001b[0mdb\u001b[0m\u001b[1;33m=\u001b[0m\u001b[1;34m'indexs'\u001b[0m\u001b[1;33m)\u001b[0m\u001b[1;33m\u001b[0m\u001b[1;33m\u001b[0m\u001b[0m\n\u001b[0m\u001b[0;32m      2\u001b[0m \u001b[0mcurs\u001b[0m \u001b[1;33m=\u001b[0m \u001b[0mconn\u001b[0m\u001b[1;33m.\u001b[0m\u001b[0mcursor\u001b[0m\u001b[1;33m(\u001b[0m\u001b[1;33m)\u001b[0m\u001b[1;33m\u001b[0m\u001b[1;33m\u001b[0m\u001b[0m\n\u001b[0;32m      3\u001b[0m \u001b[0msql\u001b[0m \u001b[1;33m=\u001b[0m \u001b[1;34m\"INSERT INTO index_selenium (date,s_p_real_asset, s_p_global, krx_gb, hfri_rv, hfri_credit, cd, kospi, barclay_global) VALUES (%s, %s, %s, %s, %s, %s, %s, %s, %s);\"\u001b[0m\u001b[1;33m\u001b[0m\u001b[1;33m\u001b[0m\u001b[0m\n\u001b[0;32m      4\u001b[0m \u001b[0mcurs\u001b[0m\u001b[1;33m.\u001b[0m\u001b[0mexecute\u001b[0m\u001b[1;33m(\u001b[0m\u001b[0msql\u001b[0m\u001b[1;33m,\u001b[0m\u001b[1;33m(\u001b[0m\u001b[0mtodayii\u001b[0m\u001b[1;33m,\u001b[0m \u001b[0mkeyword9\u001b[0m\u001b[1;33m,\u001b[0m \u001b[0mkeyword10\u001b[0m\u001b[1;33m,\u001b[0m \u001b[0mkeyword6\u001b[0m\u001b[1;33m,\u001b[0m \u001b[0mkeyword12\u001b[0m\u001b[1;33m,\u001b[0m \u001b[0mkeyword13\u001b[0m\u001b[1;33m,\u001b[0m \u001b[0mkeyword15\u001b[0m\u001b[1;33m,\u001b[0m \u001b[0mkeyword16\u001b[0m\u001b[1;33m,\u001b[0m \u001b[0mkeyword17\u001b[0m\u001b[1;33m)\u001b[0m\u001b[1;33m)\u001b[0m\u001b[1;33m\u001b[0m\u001b[1;33m\u001b[0m\u001b[0m\n\u001b[0;32m      5\u001b[0m \u001b[1;33m\u001b[0m\u001b[0m\n",
      "\u001b[1;32m~\\anaconda3\\lib\\site-packages\\pymysql\\connections.py\u001b[0m in \u001b[0;36m__init__\u001b[1;34m(self, user, password, host, database, unix_socket, port, charset, sql_mode, read_default_file, conv, use_unicode, client_flag, cursorclass, init_command, connect_timeout, read_default_group, autocommit, local_infile, max_allowed_packet, defer_connect, auth_plugin_map, read_timeout, write_timeout, bind_address, binary_prefix, program_name, server_public_key, ssl, ssl_ca, ssl_cert, ssl_disabled, ssl_key, ssl_verify_cert, ssl_verify_identity, compress, named_pipe, passwd, db)\u001b[0m\n\u001b[0;32m    351\u001b[0m             \u001b[0mself\u001b[0m\u001b[1;33m.\u001b[0m\u001b[0m_sock\u001b[0m \u001b[1;33m=\u001b[0m \u001b[1;32mNone\u001b[0m\u001b[1;33m\u001b[0m\u001b[1;33m\u001b[0m\u001b[0m\n\u001b[0;32m    352\u001b[0m         \u001b[1;32melse\u001b[0m\u001b[1;33m:\u001b[0m\u001b[1;33m\u001b[0m\u001b[1;33m\u001b[0m\u001b[0m\n\u001b[1;32m--> 353\u001b[1;33m             \u001b[0mself\u001b[0m\u001b[1;33m.\u001b[0m\u001b[0mconnect\u001b[0m\u001b[1;33m(\u001b[0m\u001b[1;33m)\u001b[0m\u001b[1;33m\u001b[0m\u001b[1;33m\u001b[0m\u001b[0m\n\u001b[0m\u001b[0;32m    354\u001b[0m \u001b[1;33m\u001b[0m\u001b[0m\n\u001b[0;32m    355\u001b[0m     \u001b[1;32mdef\u001b[0m \u001b[0m__enter__\u001b[0m\u001b[1;33m(\u001b[0m\u001b[0mself\u001b[0m\u001b[1;33m)\u001b[0m\u001b[1;33m:\u001b[0m\u001b[1;33m\u001b[0m\u001b[1;33m\u001b[0m\u001b[0m\n",
      "\u001b[1;32m~\\anaconda3\\lib\\site-packages\\pymysql\\connections.py\u001b[0m in \u001b[0;36mconnect\u001b[1;34m(self, sock)\u001b[0m\n\u001b[0;32m    630\u001b[0m             \u001b[0mself\u001b[0m\u001b[1;33m.\u001b[0m\u001b[0m_next_seq_id\u001b[0m \u001b[1;33m=\u001b[0m \u001b[1;36m0\u001b[0m\u001b[1;33m\u001b[0m\u001b[1;33m\u001b[0m\u001b[0m\n\u001b[0;32m    631\u001b[0m \u001b[1;33m\u001b[0m\u001b[0m\n\u001b[1;32m--> 632\u001b[1;33m             \u001b[0mself\u001b[0m\u001b[1;33m.\u001b[0m\u001b[0m_get_server_information\u001b[0m\u001b[1;33m(\u001b[0m\u001b[1;33m)\u001b[0m\u001b[1;33m\u001b[0m\u001b[1;33m\u001b[0m\u001b[0m\n\u001b[0m\u001b[0;32m    633\u001b[0m             \u001b[0mself\u001b[0m\u001b[1;33m.\u001b[0m\u001b[0m_request_authentication\u001b[0m\u001b[1;33m(\u001b[0m\u001b[1;33m)\u001b[0m\u001b[1;33m\u001b[0m\u001b[1;33m\u001b[0m\u001b[0m\n\u001b[0;32m    634\u001b[0m \u001b[1;33m\u001b[0m\u001b[0m\n",
      "\u001b[1;32m~\\anaconda3\\lib\\site-packages\\pymysql\\connections.py\u001b[0m in \u001b[0;36m_get_server_information\u001b[1;34m(self)\u001b[0m\n\u001b[0;32m   1053\u001b[0m     \u001b[1;32mdef\u001b[0m \u001b[0m_get_server_information\u001b[0m\u001b[1;33m(\u001b[0m\u001b[0mself\u001b[0m\u001b[1;33m)\u001b[0m\u001b[1;33m:\u001b[0m\u001b[1;33m\u001b[0m\u001b[1;33m\u001b[0m\u001b[0m\n\u001b[0;32m   1054\u001b[0m         \u001b[0mi\u001b[0m \u001b[1;33m=\u001b[0m \u001b[1;36m0\u001b[0m\u001b[1;33m\u001b[0m\u001b[1;33m\u001b[0m\u001b[0m\n\u001b[1;32m-> 1055\u001b[1;33m         \u001b[0mpacket\u001b[0m \u001b[1;33m=\u001b[0m \u001b[0mself\u001b[0m\u001b[1;33m.\u001b[0m\u001b[0m_read_packet\u001b[0m\u001b[1;33m(\u001b[0m\u001b[1;33m)\u001b[0m\u001b[1;33m\u001b[0m\u001b[1;33m\u001b[0m\u001b[0m\n\u001b[0m\u001b[0;32m   1056\u001b[0m         \u001b[0mdata\u001b[0m \u001b[1;33m=\u001b[0m \u001b[0mpacket\u001b[0m\u001b[1;33m.\u001b[0m\u001b[0mget_all_data\u001b[0m\u001b[1;33m(\u001b[0m\u001b[1;33m)\u001b[0m\u001b[1;33m\u001b[0m\u001b[1;33m\u001b[0m\u001b[0m\n\u001b[0;32m   1057\u001b[0m \u001b[1;33m\u001b[0m\u001b[0m\n",
      "\u001b[1;32m~\\anaconda3\\lib\\site-packages\\pymysql\\connections.py\u001b[0m in \u001b[0;36m_read_packet\u001b[1;34m(self, packet_type)\u001b[0m\n\u001b[0;32m    690\u001b[0m         \u001b[0mbuff\u001b[0m \u001b[1;33m=\u001b[0m \u001b[0mbytearray\u001b[0m\u001b[1;33m(\u001b[0m\u001b[1;33m)\u001b[0m\u001b[1;33m\u001b[0m\u001b[1;33m\u001b[0m\u001b[0m\n\u001b[0;32m    691\u001b[0m         \u001b[1;32mwhile\u001b[0m \u001b[1;32mTrue\u001b[0m\u001b[1;33m:\u001b[0m\u001b[1;33m\u001b[0m\u001b[1;33m\u001b[0m\u001b[0m\n\u001b[1;32m--> 692\u001b[1;33m             \u001b[0mpacket_header\u001b[0m \u001b[1;33m=\u001b[0m \u001b[0mself\u001b[0m\u001b[1;33m.\u001b[0m\u001b[0m_read_bytes\u001b[0m\u001b[1;33m(\u001b[0m\u001b[1;36m4\u001b[0m\u001b[1;33m)\u001b[0m\u001b[1;33m\u001b[0m\u001b[1;33m\u001b[0m\u001b[0m\n\u001b[0m\u001b[0;32m    693\u001b[0m             \u001b[1;31m# if DEBUG: dump_packet(packet_header)\u001b[0m\u001b[1;33m\u001b[0m\u001b[1;33m\u001b[0m\u001b[1;33m\u001b[0m\u001b[0m\n\u001b[0;32m    694\u001b[0m \u001b[1;33m\u001b[0m\u001b[0m\n",
      "\u001b[1;32m~\\anaconda3\\lib\\site-packages\\pymysql\\connections.py\u001b[0m in \u001b[0;36m_read_bytes\u001b[1;34m(self, num_bytes)\u001b[0m\n\u001b[0;32m    730\u001b[0m         \u001b[1;32mwhile\u001b[0m \u001b[1;32mTrue\u001b[0m\u001b[1;33m:\u001b[0m\u001b[1;33m\u001b[0m\u001b[1;33m\u001b[0m\u001b[0m\n\u001b[0;32m    731\u001b[0m             \u001b[1;32mtry\u001b[0m\u001b[1;33m:\u001b[0m\u001b[1;33m\u001b[0m\u001b[1;33m\u001b[0m\u001b[0m\n\u001b[1;32m--> 732\u001b[1;33m                 \u001b[0mdata\u001b[0m \u001b[1;33m=\u001b[0m \u001b[0mself\u001b[0m\u001b[1;33m.\u001b[0m\u001b[0m_rfile\u001b[0m\u001b[1;33m.\u001b[0m\u001b[0mread\u001b[0m\u001b[1;33m(\u001b[0m\u001b[0mnum_bytes\u001b[0m\u001b[1;33m)\u001b[0m\u001b[1;33m\u001b[0m\u001b[1;33m\u001b[0m\u001b[0m\n\u001b[0m\u001b[0;32m    733\u001b[0m                 \u001b[1;32mbreak\u001b[0m\u001b[1;33m\u001b[0m\u001b[1;33m\u001b[0m\u001b[0m\n\u001b[0;32m    734\u001b[0m             \u001b[1;32mexcept\u001b[0m \u001b[1;33m(\u001b[0m\u001b[0mIOError\u001b[0m\u001b[1;33m,\u001b[0m \u001b[0mOSError\u001b[0m\u001b[1;33m)\u001b[0m \u001b[1;32mas\u001b[0m \u001b[0me\u001b[0m\u001b[1;33m:\u001b[0m\u001b[1;33m\u001b[0m\u001b[1;33m\u001b[0m\u001b[0m\n",
      "\u001b[1;32m~\\anaconda3\\lib\\socket.py\u001b[0m in \u001b[0;36mreadinto\u001b[1;34m(self, b)\u001b[0m\n\u001b[0;32m    667\u001b[0m         \u001b[1;32mwhile\u001b[0m \u001b[1;32mTrue\u001b[0m\u001b[1;33m:\u001b[0m\u001b[1;33m\u001b[0m\u001b[1;33m\u001b[0m\u001b[0m\n\u001b[0;32m    668\u001b[0m             \u001b[1;32mtry\u001b[0m\u001b[1;33m:\u001b[0m\u001b[1;33m\u001b[0m\u001b[1;33m\u001b[0m\u001b[0m\n\u001b[1;32m--> 669\u001b[1;33m                 \u001b[1;32mreturn\u001b[0m \u001b[0mself\u001b[0m\u001b[1;33m.\u001b[0m\u001b[0m_sock\u001b[0m\u001b[1;33m.\u001b[0m\u001b[0mrecv_into\u001b[0m\u001b[1;33m(\u001b[0m\u001b[0mb\u001b[0m\u001b[1;33m)\u001b[0m\u001b[1;33m\u001b[0m\u001b[1;33m\u001b[0m\u001b[0m\n\u001b[0m\u001b[0;32m    670\u001b[0m             \u001b[1;32mexcept\u001b[0m \u001b[0mtimeout\u001b[0m\u001b[1;33m:\u001b[0m\u001b[1;33m\u001b[0m\u001b[1;33m\u001b[0m\u001b[0m\n\u001b[0;32m    671\u001b[0m                 \u001b[0mself\u001b[0m\u001b[1;33m.\u001b[0m\u001b[0m_timeout_occurred\u001b[0m \u001b[1;33m=\u001b[0m \u001b[1;32mTrue\u001b[0m\u001b[1;33m\u001b[0m\u001b[1;33m\u001b[0m\u001b[0m\n",
      "\u001b[1;31mKeyboardInterrupt\u001b[0m: "
     ]
    }
   ],
   "source": [
    "conn=pymysql.connect(host='localhost', user='root', db='indexs') \n",
    "curs = conn.cursor() \n",
    "sql = \"INSERT INTO index_selenium (date,s_p_real_asset, s_p_global, krx_gb, hfri_rv, hfri_credit, cd, kospi, barclay_global) VALUES (%s, %s, %s, %s, %s, %s, %s, %s, %s);\" \n",
    "curs.execute(sql,(todayii, keyword9, keyword10, keyword6, keyword12, keyword13, keyword15, keyword16, keyword17))\n",
    "\n",
    "conn.commit()# 데이터 패치\n",
    "conn.close()"
   ]
  },
  {
   "cell_type": "code",
   "execution_count": null,
   "metadata": {},
   "outputs": [],
   "source": []
  }
 ],
 "metadata": {
  "kernelspec": {
   "display_name": "Python 3",
   "language": "python",
   "name": "python3"
  },
  "language_info": {
   "codemirror_mode": {
    "name": "ipython",
    "version": 3
   },
   "file_extension": ".py",
   "mimetype": "text/x-python",
   "name": "python",
   "nbconvert_exporter": "python",
   "pygments_lexer": "ipython3",
   "version": "3.8.5"
  }
 },
 "nbformat": 4,
 "nbformat_minor": 4
}
