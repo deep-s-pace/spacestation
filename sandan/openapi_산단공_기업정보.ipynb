{
 "cells": [
  {
   "cell_type": "code",
   "execution_count": 12,
   "metadata": {},
   "outputs": [],
   "source": [
    "import pandas as pd\n",
    "from bs4 import BeautifulSoup\n",
    "import bs4\n",
    "import requests\n",
    "import time\n",
    "from selenium import webdriver\n",
    "from selenium.webdriver.common.keys import Keys\n",
    "from selenium.webdriver.support.ui import Select\n",
    "from ast import keyword\n",
    "from re import S\n",
    "from urllib import request\n",
    "import pandas as pd\n",
    "import pymysql\n",
    "import schedule\n",
    "import csv\n",
    "import requests\n",
    "import pprint\n",
    "import json\n",
    "from os import name\n",
    "import xml.etree.ElementTree as et\n",
    "from lxml import html\n",
    "from urllib.parse import urlencode, quote_plus, unquote"
   ]
  },
  {
   "cell_type": "code",
   "execution_count": 13,
   "metadata": {},
   "outputs": [
    {
     "name": "stdout",
     "output_type": "stream",
     "text": [
      "2016\n",
      "2017\n",
      "2018\n",
      "2019\n",
      "2020\n",
      "2021\n"
     ]
    }
   ],
   "source": [
    "for i in range(2016, 2022):\n",
    "    bizyear = i\n",
    "    bizyear = str(bizyear)\n",
    "    print(bizyear)"
   ]
  },
  {
   "cell_type": "code",
   "execution_count": 14,
   "metadata": {},
   "outputs": [
    {
     "ename": "NameError",
     "evalue": "name 'corona_df' is not defined",
     "output_type": "error",
     "traceback": [
      "\u001b[1;31m---------------------------------------------------------------------------\u001b[0m",
      "\u001b[1;31mNameError\u001b[0m                                 Traceback (most recent call last)",
      "\u001b[1;32m<ipython-input-14-0b0157153a57>\u001b[0m in \u001b[0;36m<module>\u001b[1;34m\u001b[0m\n\u001b[0;32m     50\u001b[0m             \u001b[1;31m#xml값 DataFrame으로 만들기\u001b[0m\u001b[1;33m\u001b[0m\u001b[1;33m\u001b[0m\u001b[1;33m\u001b[0m\u001b[0m\n\u001b[0;32m     51\u001b[0m \u001b[1;31m#         df = df.append(pd.DataFrame([url], columns=['address']), ignore_index=True)\u001b[0m\u001b[1;33m\u001b[0m\u001b[1;33m\u001b[0m\u001b[1;33m\u001b[0m\u001b[0m\n\u001b[1;32m---> 52\u001b[1;33m         \u001b[0mcorona_df\u001b[0m \u001b[1;33m=\u001b[0m \u001b[0mcorona_df\u001b[0m\u001b[1;33m.\u001b[0m\u001b[0mappend\u001b[0m\u001b[1;33m(\u001b[0m\u001b[0mpd\u001b[0m\u001b[1;33m.\u001b[0m\u001b[0mDataFrame\u001b[0m\u001b[1;33m(\u001b[0m\u001b[0mrow_list\u001b[0m\u001b[1;33m,\u001b[0m \u001b[0mcolumns\u001b[0m\u001b[1;33m=\u001b[0m\u001b[0mname_list\u001b[0m\u001b[1;33m)\u001b[0m\u001b[1;33m,\u001b[0m \u001b[0mignore_index\u001b[0m\u001b[1;33m=\u001b[0m\u001b[1;32mTrue\u001b[0m\u001b[1;33m)\u001b[0m\u001b[1;33m\u001b[0m\u001b[1;33m\u001b[0m\u001b[0m\n\u001b[0m\u001b[0;32m     53\u001b[0m         \u001b[0mcorona_df\u001b[0m\u001b[1;33m.\u001b[0m\u001b[0mto_csv\u001b[0m\u001b[1;33m(\u001b[0m\u001b[1;34m'sandan_result2.csv'\u001b[0m\u001b[1;33m,\u001b[0m\u001b[0mindex\u001b[0m\u001b[1;33m=\u001b[0m\u001b[1;32mFalse\u001b[0m\u001b[1;33m,\u001b[0m \u001b[0mencoding\u001b[0m\u001b[1;33m=\u001b[0m\u001b[1;34m'utf-8'\u001b[0m\u001b[1;33m)\u001b[0m\u001b[1;33m\u001b[0m\u001b[1;33m\u001b[0m\u001b[0m\n\u001b[0;32m     54\u001b[0m         \u001b[0mprint\u001b[0m\u001b[1;33m(\u001b[0m\u001b[0mcorona_df\u001b[0m\u001b[1;33m)\u001b[0m\u001b[1;33m\u001b[0m\u001b[1;33m\u001b[0m\u001b[0m\n",
      "\u001b[1;31mNameError\u001b[0m: name 'corona_df' is not defined"
     ]
    }
   ],
   "source": [
    "import pandas as pd\n",
    "# #빈 데이터 프레임 만들기\n",
    "# df = pd.DataFrame(columns=['text'])\n",
    "\n",
    "f = open('./sandan_api.csv','r',encoding='utf-8')\n",
    "rdr = csv.reader(f)\n",
    "\n",
    "for line in rdr:\n",
    "    key = 'serviceKey='+'ZlYVrdmtE7CJkMvUQGN0dsbvqGMkvh%2Fy%2F7BObrNTuoIRbPiB358z9oAqhkH6Sh1DFVtOF9%2BzHk5YVu94eHNdRg%3D%3D'\n",
    "    #법인번호\n",
    "    crno = line[1]\n",
    "    #년도\n",
    "    for i in range(2016, 2021):\n",
    "        bizyear = i\n",
    "        bizyear = str(bizyear)\n",
    "        #요청쿼리_법인번호로 찾기\n",
    "        request = 'pageNo=1&numOfRow=1&resultType=xml&bizYear='+bizyear+'&crno='+crno\n",
    "        #url 요청하기\n",
    "        url='http://apis.data.go.kr/1160100/service/GetFinaStatInfoService/getSummFinaStat?'+'&'+request+'&'+key\n",
    "        # url 불러오기\n",
    "        response = requests.get(url)\n",
    "\n",
    "        #데이터 값 출력해보기\n",
    "        contents = response.text\n",
    "\n",
    "        xml_obj = bs4.BeautifulSoup(contents,'lxml-xml')\n",
    "        rows = xml_obj.findAll('item')\n",
    "    #    print(rows)\n",
    "\n",
    "            # 각 행의 컬럼, 이름, 값을 가지는 리스트 만들기\n",
    "        row_list = [] # 행값\n",
    "        name_list = [] # 열이름값\n",
    "        value_list = [] #데이터값\n",
    "\n",
    "        # xml 안의 데이터 수집\n",
    "        for i in range(0, len(rows)):\n",
    "            columns = rows[i].find_all()\n",
    "            #첫째 행 데이터 수집\n",
    "            for j in range(0,len(columns)):\n",
    "                if i ==0:\n",
    "                    # 컬럼 이름 값 저장\n",
    "                    name_list.append(columns[j].name)\n",
    "                # 컬럼의 각 데이터 값 저장\n",
    "                value_list.append(columns[j].text)\n",
    "            # 각 행의 value값 전체 저장\n",
    "            row_list.append(value_list)\n",
    "            # 데이터 리스트 값 초기화\n",
    "            value_list=[]\n",
    "\n",
    "            #xml값 DataFrame으로 만들기\n",
    "#         df = df.append(pd.DataFrame([url], columns=['address']), ignore_index=True) \n",
    "        corona_df = corona_df.append(pd.DataFrame(row_list, columns=name_list), ignore_index=True) \n",
    "        corona_df.to_csv('sandan_result2.csv',index=False, encoding='utf-8')\n",
    "        print(corona_df)\n",
    "\n",
    "    #     #미리 만들어둔 빈 데이터 프레임안에 결과값 쌓기 \n",
    "    #     df = df.append(pd.DataFrame([url], columns=['text']), ignore_index=True) \n",
    "\n"
   ]
  },
  {
   "cell_type": "code",
   "execution_count": null,
   "metadata": {},
   "outputs": [],
   "source": [
    "\"\"\"\n",
    "각 컬럼 값\n",
    "numOfRows\t한 페이지 결과 수\t4\t1\t1\t한 페이지 결과 수\n",
    "pageNo\t페이지 번호\t4\t1\t1\t페이지 번호\n",
    "resultType\t결과형식\t4\t1\txml\t결과형식(xml/json)\n",
    "serviceKey\t서비스키\t400\t1\t공공데이터포털에서 받은 인증키\t공공데이터포털에서 받은 인증키\n",
    "crno\t법인등록번호\t13\t0\t1746110000741\t법인등록번호\n",
    "bizYear\t사업연도\t4\t0\t2019\t법인에 대해 법령이 규정한 1회계기간으로서 법인세의 과세기간\n",
    "※ 항목구분 : 필수(1), 옵션(0) \n",
    "c) 응답 메시지 명세\n",
    "항목명(영문)\t항목명(국문)\t항목크기\t항목구분\t샘플데이터\t항목설명\n",
    "resultCode\t결과코드\t2\t1\t00\t결과코드\n",
    "resultMsg\t결과메시지\t50\t1\tNORMAL SERVICE.\t결과메시지\n",
    "numOfRows\t한 페이지 결과 수\t4\t1\t1\t한 페이지 결과 수\n",
    "pageNo\t페이지 번호\t4\t1\t1\t페이지 번호\n",
    "totalCount\t전체 결과 수\t10\t1\t3115315\t전체 결과 수\n",
    "basDt\t기준일자\t8\t0\t20200413\t작업 또는 거래의 기준이 되는 일자(년월일)\n",
    "crno\t법인등록번호\t13\t1\t1746110000741\t법인등록번호\n",
    "bizYear\t사업연도\t4\t1\t2019\t법인에 대해 법령이 규정한 1회계기간으로서 법인세의 과세기간\n",
    "fnclDcd\t재무제표구분코드\t35\t0\tifrs_ConsolidatedMember\t기업이 회계 연도가 끝나는 때에 결산 보고를 하기 위하여 작성하는 회계 보고서를 구분하는 코드\n",
    "fnclDcdNm\t재무제표구분코드명\t100\t0\t연결요약재무제표\t기업이 회계 연도가 끝나는 때에 결산 보고를 하기 위하여 작성하는 회계 보고서를 구분하는 코드의 명칭\n",
    "enpSaleAmt\t기업매출금액\t22,3\t0\t0\t기업의 매출액\n",
    "enpBzopPft\t기업영업이익\t22,3\t0\t6455213910282\t기업의 영업 이익\n",
    "iclsPalClcAmt\t포괄손익계산금액\t22,3\t0\t0\t금융회사세 비용 차감전 순이익 금액\n",
    "enpCrtmNpf\t기업당기순이익\t22,3\t0\t0\t기업 당기의 순이익\n",
    "enpTastAmt\t기업총자산금액\t18,3\t0\t134769427547911\t기업의 총 자산 합계금액\n",
    "enpTdbtAmt\t기업총부채금액\t18,3\t0\t41360535596393\t기업의 총 부채 합계금액\n",
    "enpTcptAmt\t기업총자본금액\t18,3\t0\t93408891951518\t기업의 총 자본 합계금액\n",
    "enpCptlAmt\t기업자본금액\t18,3\t0\t964806250000\t기업의 영리를 목적으로 사업에 투자한 돈\n",
    "fnclDebtRto\t재무제표부채비율\t26,10\t0\t.442790132\t기업이 회계 연도가 끝나는 때에 결산 보고를 하기 위하여 작성하는 회계 보고서상의 부채 비율\n",
    "\"\"\""
   ]
  },
  {
   "cell_type": "code",
   "execution_count": 10,
   "metadata": {},
   "outputs": [
    {
     "name": "stdout",
     "output_type": "stream",
     "text": [
      "[]\n"
     ]
    }
   ],
   "source": [
    "xml_obj = bs4.BeautifulSoup(contents,'lxml-xml')\n",
    "rows = xml_obj.findAll('item')\n",
    "print(rows)"
   ]
  },
  {
   "cell_type": "code",
   "execution_count": 11,
   "metadata": {},
   "outputs": [],
   "source": [
    "# 각 행의 컬럼, 이름, 값을 가지는 리스트 만들기\n",
    "row_list = [] # 행값\n",
    "name_list = [] # 열이름값\n",
    "value_list = [] #데이터값\n",
    "\n",
    "# xml 안의 데이터 수집\n",
    "for i in range(0, len(rows)):\n",
    "    columns = rows[i].find_all()\n",
    "    #첫째 행 데이터 수집\n",
    "    for j in range(0,len(columns)):\n",
    "        if i ==0:\n",
    "            # 컬럼 이름 값 저장\n",
    "            name_list.append(columns[j].name)\n",
    "        # 컬럼의 각 데이터 값 저장\n",
    "        value_list.append(columns[j].text)\n",
    "    # 각 행의 value값 전체 저장\n",
    "    row_list.append(value_list)\n",
    "    # 데이터 리스트 값 초기화\n",
    "    value_list=[]"
   ]
  },
  {
   "cell_type": "code",
   "execution_count": 51,
   "metadata": {},
   "outputs": [
    {
     "name": "stdout",
     "output_type": "stream",
     "text": [
      "      basDt bizYear           crno     enpBzopPft enpCptlAmt     enpCrtmNpf  \\\n",
      "0  20161231    2016  0000000000000      220585011          0      169763696   \n",
      "1  20161231    2016  1101110000086   940360642219          0   246874755082   \n",
      "2  20161231    2016  1101110000086   719858083472          0    51783337209   \n",
      "3  20161231    2016  1101110002404          45122    1150000         106685   \n",
      "4  20161231    2016  1101110002694   142977771949          0   -20431464417   \n",
      "5  20161231    2016  1101110002694   387818596157          0   -38004783142   \n",
      "6  20161231    2016  1101110002818    24857087967          0    16810168057   \n",
      "7  20161231    2016  1101110002818    15250588939          0    14438566851   \n",
      "8  20161231    2016  1101110002959  1685925000000          0  1288691000000   \n",
      "9  20161231    2016  1101110002959   224190000000          0   106275000000   \n",
      "\n",
      "       enpSaleAmt       enpTastAmt      enpTcptAmt       enpTdbtAmt  \\\n",
      "0      1142433981       1554544655      1158938823        395605832   \n",
      "1  29526412572111   41915906500152  17264041892677   24651864607475   \n",
      "2  16042364596948   25982810067019  15505754250379   10477055816640   \n",
      "3         4065112          2722148         1349112          1373036   \n",
      "4  11035596402664   13376589310291   3353164935674   10023424374617   \n",
      "5   9996138505522   12295001412615   3351357553600    8943643859015   \n",
      "6    652735933172     730508861574    523024814138     207484047436   \n",
      "7    531030970036     659005740743    491395992205     167609748538   \n",
      "8  47120215000000  154871038000000  14227936000000  140643102000000   \n",
      "9   5101851000000    7769210000000   3109717000000    4659493000000   \n",
      "\n",
      "                   fnclDcd fnclDcdNm    fnclDebtRto  iclsPalClcAmt  \n",
      "0  ifrs_ConsolidatedMember  연결요약재무제표    .3413517816      230405699  \n",
      "1  ifrs_ConsolidatedMember  연결요약재무제표   1.4279312319   489420580920  \n",
      "2      ifrs_SeparateMember  별도요약재무제표    .6756882411   153029898680  \n",
      "3                      120  요약별도재무정보  101.773314595         111710  \n",
      "4  ifrs_ConsolidatedMember  연결요약재무제표   2.9892428696    21345511377  \n",
      "5      ifrs_SeparateMember  별도요약재무제표   2.6686629869   -21444528748  \n",
      "6  ifrs_ConsolidatedMember  연결요약재무제표    .3967001982    22008068596  \n",
      "7      ifrs_SeparateMember  별도요약재무제표    .3410889612    19365784980  \n",
      "8  ifrs_ConsolidatedMember  연결요약재무제표   9.8849968119  1671947000000  \n",
      "9      ifrs_SeparateMember  별도요약재무제표   1.4983656069   127857000000  \n"
     ]
    }
   ],
   "source": [
    "#xml값 DataFrame으로 만들기\n",
    "corona_df = pd.DataFrame(row_list, columns=name_list)\n",
    "print(corona_df.head(50))"
   ]
  }
 ],
 "metadata": {
  "kernelspec": {
   "display_name": "Python 3",
   "language": "python",
   "name": "python3"
  },
  "language_info": {
   "codemirror_mode": {
    "name": "ipython",
    "version": 3
   },
   "file_extension": ".py",
   "mimetype": "text/x-python",
   "name": "python",
   "nbconvert_exporter": "python",
   "pygments_lexer": "ipython3",
   "version": "3.8.5"
  }
 },
 "nbformat": 4,
 "nbformat_minor": 4
}
